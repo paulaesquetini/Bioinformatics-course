{
 "cells": [
  {
   "cell_type": "code",
   "execution_count": 1,
   "id": "8c241748",
   "metadata": {},
   "outputs": [],
   "source": [
    "import pandas as pd"
   ]
  },
  {
   "cell_type": "markdown",
   "id": "c92cf728",
   "metadata": {},
   "source": [
    "### Implement MotifEnumeration (reproduced below).\n",
    "\n",
    "Input: Integers k and d, followed by a space-separated collection of strings Dna.\n",
    "\n",
    "Output: All (k, d)-motifs in Dna.\n"
   ]
  },
  {
   "cell_type": "code",
   "execution_count": 16,
   "id": "f75e5cfc",
   "metadata": {},
   "outputs": [],
   "source": [
    "def hamDist(p,q):\n",
    "    dist = 0\n",
    "    for i in range(0,len(p)):\n",
    "        if p[i]!=q[i]:\n",
    "            dist+=1\n",
    "    return dist"
   ]
  },
  {
   "cell_type": "code",
   "execution_count": 58,
   "id": "4f82e05a",
   "metadata": {},
   "outputs": [],
   "source": [
    "def immedNeighbors(pat):\n",
    "    neighbrs = [pat]\n",
    "    nucs = ['A','T','C','G']\n",
    "    for i in range(0,len(pat)):\n",
    "        nucs.remove(pat[i])\n",
    "        temppat = list(pat)\n",
    "        for n in range(0,3):\n",
    "            temppat[i]=nucs[n]\n",
    "            neigh = ''.join(temppat)\n",
    "            neighbrs.append(neigh)\n",
    "        \n",
    "        nucs = ['A','T','C','G']\n",
    "        \n",
    "    return neighbrs"
   ]
  },
  {
   "cell_type": "code",
   "execution_count": 59,
   "id": "c8c90945",
   "metadata": {},
   "outputs": [],
   "source": [
    "def iterNeighbors(pat, d):\n",
    "    neighborhood = [pat]\n",
    "    for j in range(0,d):\n",
    "        for neighbor in neighborhood:\n",
    "            #print(str(j) + \" \" + neighbor)\n",
    "            neighborhood+=immedNeighbors(neighbor)\n",
    "            #remove dups\n",
    "            neighborhood = set(neighborhood)\n",
    "            neighborhood = list(neighborhood)\n",
    "            \n",
    "    return neighborhood  \n",
    "    #print(*neighborhood)"
   ]
  },
  {
   "cell_type": "code",
   "execution_count": 60,
   "id": "daebbe09",
   "metadata": {},
   "outputs": [
    {
     "data": {
      "text/plain": [
       "['AAA', 'TAA', 'CAA', 'GAA', 'ATA', 'ACA', 'AGA', 'AAT', 'AAC', 'AAG']"
      ]
     },
     "execution_count": 60,
     "metadata": {},
     "output_type": "execute_result"
    }
   ],
   "source": [
    "immedNeighbors(\"AAA\")"
   ]
  },
  {
   "cell_type": "code",
   "execution_count": 61,
   "id": "7fead54f",
   "metadata": {},
   "outputs": [
    {
     "data": {
      "text/plain": [
       "['ATA', 'CAA', 'ACA', 'AGA', 'AAC', 'AAT', 'AAA', 'GAA', 'TAA', 'AAG']"
      ]
     },
     "execution_count": 61,
     "metadata": {},
     "output_type": "execute_result"
    }
   ],
   "source": [
    "iterNeighbors(\"AAA\",1)"
   ]
  },
  {
   "cell_type": "code",
   "execution_count": 91,
   "id": "b1c4359e",
   "metadata": {},
   "outputs": [],
   "source": [
    "def motifEnum(dna, k, d):\n",
    "    dnas = dna.split()\n",
    "    genKmerLst = []\n",
    "    kmerNneighs = []\n",
    "    patterns = []\n",
    "            \n",
    "    #get all k-mers from all DNA strings (w/o dups) --> genKmerLst\n",
    "    for stri in dnas:\n",
    "        for i in range (0, len(stri)-k+1):\n",
    "            pat = stri[i:k+i]\n",
    "            if pat not in genKmerLst: \n",
    "                genKmerLst.append(pat)   \n",
    "    #print(genKmerLst)\n",
    "    \n",
    "    #get kmer's neighbors!\n",
    "    for kmer in genKmerLst:\n",
    "        kmerNneighs+=iterNeighbors(kmer, d)\n",
    "    \n",
    "    #iterate through kmerNneighs\n",
    "    for kmer in kmerNneighs:\n",
    "        #print(kmer)\n",
    "        for s in range(0, len(dnas)):\n",
    "            #print(s)\n",
    "            matches = False\n",
    "            for i in range (0, len(dnas[s])-k+1):\n",
    "                pat = dnas[s][i:k+i]\n",
    "                currD = hamDist(kmer, pat)\n",
    "                if currD<=d: #not on last string\n",
    "                    matches = True\n",
    "                    \n",
    "                #otherwise, keep searching in this string\n",
    "                \n",
    "                if currD<=d and s==len(dnas)-1: #if it made it this far, kmer was present in all strings\n",
    "                    #print(\"bingo\")\n",
    "                    matches = True\n",
    "                    patterns.append(kmer)\n",
    "                    break\n",
    "                    \n",
    "            #if it got through all pats in this string and kmer is not a match, skip rest of strings, go to next kmer\n",
    "            if not matches and i==len(dnas[s])-k: \n",
    "                #print(\"skip next strings and go to next kmer\")\n",
    "                break \n",
    "            \n",
    "    #remove dups\n",
    "    patterns = set(patterns)\n",
    "    patterns = list(patterns)\n",
    "                  \n",
    "    print(*patterns)\n",
    "   "
   ]
  },
  {
   "cell_type": "code",
   "execution_count": 92,
   "id": "d38adec8",
   "metadata": {},
   "outputs": [
    {
     "name": "stdout",
     "output_type": "stream",
     "text": [
      "ATA ATT GTT TTT\n"
     ]
    }
   ],
   "source": [
    "motifEnum(\"ATTTGGC TGCCTTA CGGTATC GAAAATT\",3,1)"
   ]
  },
  {
   "cell_type": "code",
   "execution_count": 88,
   "id": "cc225dec",
   "metadata": {},
   "outputs": [
    {
     "name": "stdout",
     "output_type": "stream",
     "text": [
      "2\n"
     ]
    }
   ],
   "source": [
    "file = pd.read_csv(\"dataset_30302_8.txt\", header=None)\n",
    "print(file.iloc[0,0][2])"
   ]
  },
  {
   "cell_type": "code",
   "execution_count": 90,
   "id": "b44cc643",
   "metadata": {
    "scrolled": true
   },
   "outputs": [
    {
     "name": "stdout",
     "output_type": "stream",
     "text": [
      "AAGAC TATTA TACGA TGCTA GGATG AGTCG CGTCG GCTAC CTACG ACTAC CGGCT TTCTA TCGAG AATCT GGGCA TTTGA CGGAT GGTCG ATTGT ACAAT CTAAC CCCGT TACGC TAATA GAAGT GGCTA TTATC AAGCT CTGCG ATCAA GTATC CATCC CGTCC AACTC TATTC ATCTT GTCCG CATCG CGAGT GTCTC CGCCA CCTAG TGCAG CTTCT ACGTG GACGC CGTAC TGACG TATAA CCAAA GATTG CGGAA CCGAG TCTGC CCCGA TACGG CATTC GAACG CGAAG CGCTA TCGTG CCGGC ACACG GGCGG TTAGA TCCGA CTACT TCCTG CCGCC CGTTG CCTTA ATTAC TCGAA ATGCT ATCGA ATACC GGCAT GTGAC GGCCT TCTTG TCGCA CAAAA CAGTG CTTAC AGATT CCGAA TTTAG TGGTC GCCTT CTACC GTTCC GCATG ATGTG CTGCT CCCTA AACCT ACTCC CTACA TCCAC TCCTA AGGCT AACGA TCCAG GGTAC TCTTC CCGTC TATGA AGTCT CCTCA TTCCG CGTAA TGCAT CTGAT GTACG CCAAC AGTGG AAGGC CTTCG TCCAA CGTGT ACGAA CCCTC GCAGA TCCTC GAGAC GCTAA ATCCA TGCTG TAAAC ACCGT GCGTC GGTGT GCCAA ATTAG CTAAA AGCAT GTCTG ATGAC CTCGA AGTGA CTCCG AGGTG TCTAT GTCAA AACTT GATAC CTAAT TCGGC GAGCT TGGGT GAGTC GACCT AGCCA CAGCG GATTA ACGTC TCGAT CGACC ACGCA ATCCG GCACA GCTCA TAGGG ACGGA TGCTC GACTT AATTT CTAAG TAGCC GAACT GTCAT TTCCA GCGGC CCAGT GCCTA GCCTC TGTTG AAATC ACTTG ACGGT CCGTA TTACT AGTTC TACCT CCCCG CTTGG TTGAG GTCGT CTTCA ATACA GCTCC AGATC TACTG TCCTT AGAAT GTATT TACCG CAATG CTATC TTCGG CCGTG TGTGA CTTGA ACCTA TAGTC TGACT CCGGA GTACC CTCCA TAGAC TCCGT TCATG GCCGA CTGTC TGTAC GCATT TCCCT GGCTC TTCTC AGCGA TAGTG CGGAG TCCAT CAGCT GGTAA CATTA GCCAT GCAAT TCGCC GTTTC GGTTC TGCGA GATTC CACTA TAGTA CTGCC ATTCA GCGTG ATTAT GAATC CTGAA CGCGA GTGCC TACAG GCATA AGCCT CGATT ATTTC GTGTC GTAGC GATCG CAGAT CTCAT GCACT TTCTG CCGAC CCTAA CGCCC GAATG TGGTA AGGGC TTCAA TGCCT AGCGT GTCGA CGGCC ACTAT TGCGT GTCAC CACGC TCACG TCGGG TTGAT TCTAA CTCAG GCGAC TCCCC ACCGA TACGT TTCAC TACTA TTACA CCATC CGCAA TATGG AGGTA CAGGT ATCTA GTTGA TGCTT CGTGA GGAAT CACAT GACAA GGGTC TGAGG CGTTT CCCAC GGTCC CACCG TTGCG TTGCT TATCC CTGTA TAGGC GCATC TGAGC ACGCG TCGTA CAATT TTGTG GATCT TCTGA TTAAG CTGAG TTACC TTTTG GTTCG CAACC TATTT CCTTC TGCCA TTCGT AGACG TAGAG GCTGA CTATG GGTTA GTGTA AGTCC TCTGT TATGC AATAT TCAGA GGATC CGTAG CCGCG CCATG TCAAC GCTGT ACCAC CTCAA AGGAT TGTTA ACTGC TCCGG GTATA TCCGC ACTTA GTTAC CAGTT AGCTT CTAGT GCCTG CGAGA GGCCA CGAAC TAACG GTGAT ATGCG TACAC TACAT CACGA AGTAT CAACG CTATT GGTAT CTGGG AGGAC GCCCT TACTT TATCG ATAGT ATAAT GATAA CTGCA CTTCC CTGTT AGATG GGACT CCTAC TGTAT GACTC GTAAA ACGAC ATCAT AATTC ATCCT CGGCG GCTGC CTCCT TGTGG ACATC CGAGG GAGGA GGATT GTCTA GCGCC TTCGA CGCGT TACCC CGACG ACGCC CGGCA TGCGC CGGGA GATCA TGTCG TGAGA TGGAT TAGCG ACATT TGAAG TTGAC TATAG ACACC GTTCA CAAAT ACGGG TCACT TCGGT CCTAT CGACA AGATA CATAG TCTAG CCACG GATCC ATAGC CCACT GTACA TGATG CTAGG GTGCG CTCTG CGTCA GTCGG CCGAT CTCGG ACTAA TGGAC ACTAG TTCCC CGATG ACTTC TGATT GCTAT ATTCC CACGG TACAA GGGAT AGCTG GTCCC CTAGC TAAGA GACGA TACCA TCTCC GTGCT AACGC AGGGA ATGAG GAAAT ATTGA TTGGA TGTTC CTTAT TCATC CGTCT TTACG CTTAA TAATC AATAC CAACA TGAAA GGACG AAGCC CAGAA TATCT ATGCC TGCGG AACGG TTTCG TCATA TGATA TGAAC CATAC ATGTC CGATA CGCAT TGTAA TCGTT ACAAA CACTT TACTC TCGAC CCGTT GAATA ACAAC TTGAA TGATC AGGCC CGACT ATCTG ACAGC GCCAG CCTCC AGCTC CGGAC CGCCG AGACT TCTGG TGTCC GAGTT CTTTG ACGTA AATGC TTCGC GGAGT TTCAG ATCGT GAATT GTATG ACTGT CGTGC TCCCA CCTCG CGTTA CAGTA TCGGA AGGGT GCGTA CGCCT GTTAT CCGCA GTAAT CTTAG AACAT ACCGC CTCCC AGAGA GACGT TAGGA ATATC GCTTC CACCT ATCGC CATCT TTATT GCCAC CGTAT GTCCT GACTA GGTGC GGCTG AACTA GAGAT TATTG GTCCA ACGAT GTGAA CAAAC TCAAG AATGT CCACA ATCTC AGCTA TCTAC ACCCC TTCTT GTGAG TCTTT TCACC ACCTT TTTAC ACGAG GACTG AAACG CGGTC ATGAT AATTA ATTCT GCGGA TGACA CGTGG CAACT AAGTC CCTGC AAGTA GTAAG CTGTG CAAGT TGTGC ATACG ACGGC ACCTC GTGGT ACCTG ACTCT CGAAA AGTAC TTTCC GACAT CATAT AGAAG ATGCA CAAGG CCATT ATTCG GACGG\n"
     ]
    }
   ],
   "source": [
    "motifEnum(file.iloc[1,0], int(file.iloc[0,0][0]), int(file.iloc[0,0][2]))"
   ]
  },
  {
   "cell_type": "markdown",
   "id": "fca04fb4",
   "metadata": {},
   "source": [
    "### Implement MedianString.\n",
    "\n",
    "Input: An integer k, followed by a space-separated collection of strings Dna.\n",
    "\n",
    "Output: A k-mer Pattern that minimizes d(Pattern, Dna) among all possible choices of k-mers. (If there are multiple such strings Pattern, then you may return any one.)"
   ]
  },
  {
   "cell_type": "code",
   "execution_count": 96,
   "id": "66d03479",
   "metadata": {},
   "outputs": [],
   "source": [
    "from numpy import inf"
   ]
  },
  {
   "cell_type": "code",
   "execution_count": 160,
   "id": "4121c4f2",
   "metadata": {},
   "outputs": [],
   "source": [
    "def immedNeighbors(pat):\n",
    "    neighbrs = [pat]\n",
    "    nucs = ['A','T','C','G']\n",
    "    for i in range(0,len(pat)):\n",
    "        nucs.remove(pat[i])\n",
    "        temppat = list(pat)\n",
    "        for n \n",
    "        in range(0,3):\n",
    "            temppat[i]=nucs[n]\n",
    "            neigh = ''.join(temppat)\n",
    "            neighbrs.append(neigh)\n",
    "        \n",
    "        nucs = ['A','T','C','G']\n",
    "        \n",
    "    return neighbrs"
   ]
  },
  {
   "cell_type": "code",
   "execution_count": 161,
   "id": "764baa1e",
   "metadata": {},
   "outputs": [],
   "source": [
    "def iterNeighbors(pat, d):\n",
    "    neighborhood = [pat]\n",
    "    for j in range(0,d):\n",
    "        for neighbor in neighborhood:\n",
    "            #print(str(j) + \" \" + neighbor)\n",
    "            neighborhood+=immedNeighbors(neighbor)\n",
    "            #remove dups\n",
    "            neighborhood = set(neighborhood)\n",
    "            neighborhood = list(neighborhood)\n",
    "            \n",
    "    return neighborhood  \n",
    "    #print(*neighborhood)"
   ]
  },
  {
   "cell_type": "code",
   "execution_count": 174,
   "id": "8f557337",
   "metadata": {},
   "outputs": [],
   "source": [
    "def medianString(dnas, k):\n",
    "    kmerScore = {}\n",
    "    \n",
    "    #get all possible kmers!\n",
    "    allKmers = iterNeighbors('A'*k, k)\n",
    "    \n",
    "    for kmer in allKmers:\n",
    "        #print(kmer)\n",
    "        score = 0\n",
    "        for s in range(0, len(dnas)):\n",
    "            distance = float(inf)\n",
    "            for i in range (0, len(dnas.iloc[s])-k+1):\n",
    "                pat = dnas.iloc[s][i:k+i]\n",
    "                currD = hamDist(kmer, pat)\n",
    "                if distance > currD:\n",
    "                    distance = currD\n",
    "                    #print(distance)\n",
    "            score+=distance\n",
    "        kmerScore[kmer] = score\n",
    "    #print(kmerScore)\n",
    "        \n",
    "    for key,val in kmerScore.items():\n",
    "        if val==min(kmerScore.values()):\n",
    "            return key\n",
    "        "
   ]
  },
  {
   "cell_type": "code",
   "execution_count": 175,
   "id": "745de947",
   "metadata": {},
   "outputs": [
    {
     "data": {
      "text/plain": [
       "0    AAATTGACGCAT\n",
       "1    GACGACCACGTT\n",
       "2    CGTCAGCGCCTG\n",
       "3    GCTGAGCACCGG\n",
       "4    AGTTCGGGACAG\n",
       "dtype: object"
      ]
     },
     "execution_count": 175,
     "metadata": {},
     "output_type": "execute_result"
    }
   ],
   "source": [
    "strs = pd.Series([\"AAATTGACGCAT\", \"GACGACCACGTT\", \"CGTCAGCGCCTG\", \"GCTGAGCACCGG\", \"AGTTCGGGACAG\"])\n",
    "strs"
   ]
  },
  {
   "cell_type": "code",
   "execution_count": 176,
   "id": "7aa3e45c",
   "metadata": {},
   "outputs": [
    {
     "data": {
      "text/plain": [
       "'GAC'"
      ]
     },
     "execution_count": 176,
     "metadata": {},
     "output_type": "execute_result"
    }
   ],
   "source": [
    "medianString(strs,3)"
   ]
  },
  {
   "cell_type": "code",
   "execution_count": 189,
   "id": "7d9bb87c",
   "metadata": {},
   "outputs": [
    {
     "name": "stdout",
     "output_type": "stream",
     "text": [
      "6\n"
     ]
    }
   ],
   "source": [
    "file = pd.read_csv(\"dataset_30304_9 (3).txt\", header=None)\n",
    "print(file.iloc[0,0])"
   ]
  },
  {
   "cell_type": "code",
   "execution_count": 194,
   "id": "fd68ad1c",
   "metadata": {
    "scrolled": false
   },
   "outputs": [
    {
     "data": {
      "text/plain": [
       "'GGGTAT'"
      ]
     },
     "execution_count": 194,
     "metadata": {},
     "output_type": "execute_result"
    }
   ],
   "source": [
    "medianString(file.iloc[1:,0], int(file.iloc[0,0]))"
   ]
  },
  {
   "cell_type": "markdown",
   "id": "d50944de",
   "metadata": {},
   "source": [
    "### Find a Profile-most probable k-mer in a string.\n",
    "\n",
    "Input: A string Text, an integer k, and a 4 × k matrix Profile.\n",
    "\n",
    "Output: A Profile-most probable k-mer in Text.\n"
   ]
  },
  {
   "cell_type": "code",
   "execution_count": 207,
   "id": "a199d550",
   "metadata": {
    "scrolled": true
   },
   "outputs": [
    {
     "name": "stdout",
     "output_type": "stream",
     "text": [
      "0.277 0.277 0.301 0.289 0.217 0.205 0.349 0.217 0.205 0.265 0.241 0.253\n"
     ]
    }
   ],
   "source": [
    "file = pd.read_csv(\"dataset_30305_3.txt\", header=None)\n",
    "print(file.iloc[2,0])"
   ]
  },
  {
   "cell_type": "code",
   "execution_count": 702,
   "id": "93922839",
   "metadata": {},
   "outputs": [],
   "source": [
    "def mostProbKmer(text, k, profile):\n",
    "    #process profile into usable format\n",
    "    profDict = {}\n",
    "    profDict['A'] = profile.iloc[0].split()\n",
    "    profDict['C'] = profile.iloc[1].split()\n",
    "    profDict['G'] = profile.iloc[2].split()\n",
    "    profDict['T'] = profile.iloc[3].split()\n",
    "      \n",
    "    probsDict = {}\n",
    "    \n",
    "    for i in range(0, len(text)-k+1):\n",
    "        pat = text[i:k+i]\n",
    "        prob = 1\n",
    "        for b in range(0, len(pat)): #len(pat)=k\n",
    "            prob*=float(profDict[pat[b]][b])\n",
    "        probsDict[pat] = prob\n",
    "    \n",
    "    for key, val in probsDict.items():\n",
    "        if val == max(probsDict.values()):\n",
    "            return key\n",
    "            "
   ]
  },
  {
   "cell_type": "code",
   "execution_count": 697,
   "id": "1e5be153",
   "metadata": {},
   "outputs": [
    {
     "data": {
      "text/plain": [
       "0    0.2 0.2 0.3 0.2 0.3\n",
       "1    0.4 0.3 0.1 0.5 0.1\n",
       "2    0.3 0.3 0.5 0.2 0.4\n",
       "3    0.1 0.2 0.1 0.1 0.2\n",
       "dtype: object"
      ]
     },
     "execution_count": 697,
     "metadata": {},
     "output_type": "execute_result"
    }
   ],
   "source": [
    "prof = pd.Series([\"0.2 0.2 0.3 0.2 0.3\",\n",
    "                 \"0.4 0.3 0.1 0.5 0.1\",\n",
    "                 \"0.3 0.3 0.5 0.2 0.4\",\n",
    "                 \"0.1 0.2 0.1 0.1 0.2\"])\n",
    "prof"
   ]
  },
  {
   "cell_type": "code",
   "execution_count": 703,
   "id": "aa59d26f",
   "metadata": {},
   "outputs": [
    {
     "data": {
      "text/plain": [
       "'CCGAG'"
      ]
     },
     "execution_count": 703,
     "metadata": {},
     "output_type": "execute_result"
    }
   ],
   "source": [
    "mostProbKmer(\"ACCTGTTTATTGCCTAAGTTCCGAACAAACCCAATATAGCCCGAGGGCCT\", 5, prof)"
   ]
  },
  {
   "cell_type": "code",
   "execution_count": 248,
   "id": "c18a000c",
   "metadata": {},
   "outputs": [
    {
     "data": {
      "text/plain": [
       "'AGCATTACCGTT'"
      ]
     },
     "execution_count": 248,
     "metadata": {},
     "output_type": "execute_result"
    }
   ],
   "source": [
    "mostProbKmer(file.iloc[0,0], int(file.iloc[1,0]), file.iloc[2:,0])"
   ]
  },
  {
   "cell_type": "code",
   "execution_count": 700,
   "id": "bf77f865",
   "metadata": {
    "scrolled": true
   },
   "outputs": [
    {
     "name": "stdout",
     "output_type": "stream",
     "text": [
      "0.265 0.229 0.349 0.229 0.253 0.265 0.229 0.241 0.253 0.205 0.265 0.265\n"
     ]
    }
   ],
   "source": [
    "file = pd.read_csv(\"dataset_30305_3 (1).txt\", header=None)\n",
    "print(file.iloc[2,0])"
   ]
  },
  {
   "cell_type": "code",
   "execution_count": 704,
   "id": "4c6a61ff",
   "metadata": {},
   "outputs": [
    {
     "data": {
      "text/plain": [
       "'ATACCCCCAACC'"
      ]
     },
     "execution_count": 704,
     "metadata": {},
     "output_type": "execute_result"
    }
   ],
   "source": [
    "mostProbKmer(file.iloc[0,0], int(file.iloc[1,0]), file.iloc[2:,0])"
   ]
  },
  {
   "cell_type": "markdown",
   "id": "62e27a79",
   "metadata": {},
   "source": [
    "### Implement GreedyMotifSearch.\n",
    "\n",
    "Input: Integers k and t, followed by a space-separated collection of strings Dna.\n",
    "\n",
    "Output: A collection of strings BestMotifs resulting from applying GreedyMotifSearch(Dna, k, t). If at any step you find more than one Profile-most probable k-mer in a given string, use the one occurring first."
   ]
  },
  {
   "cell_type": "markdown",
   "id": "f0b24cc4",
   "metadata": {},
   "source": [
    "Our proposed greedy motif search algorithm, GreedyMotifSearch, starts by forming a motif matrix from arbitrarily selected k-mers in each string from Dna (which in our specific implementation is the first k-mer in each string). It then attempts to improve this initial motif matrix by trying each of the k-mers in Dna1 as the first motif. For a given choice of k-mer Motif1 in Dna1, it builds a profile matrix Profile for this lone k-mer, and sets Motif2 equal to the Profile-most probable k-mer in Dna2. It then iterates by updating Profile as the profile matrix formed from Motif1 and Motif2, and sets Motif3 equal to the Profile-most probable k-mer in Dna3. In general, after finding i − 1 k-mers Motifs in the first i − 1 strings of Dna, GreedyMotifSearch constructs Profile(Motifs) and selects the Profile-most probable k-mer from Dnai based on this profile matrix. After obtaining a k-mer from each string to obtain a collection Motifs, GreedyMotifSearch tests to see whether Motifs outscores the current best scoring collection of motifs and then moves Motif1 one symbol over in Dna1, beginning the entire process of generating Motifs again."
   ]
  },
  {
   "cell_type": "code",
   "execution_count": 434,
   "id": "fa3f8b5b",
   "metadata": {},
   "outputs": [],
   "source": [
    "import numpy as np\n",
    "import time"
   ]
  },
  {
   "cell_type": "code",
   "execution_count": 756,
   "id": "4654e613",
   "metadata": {},
   "outputs": [],
   "source": [
    "def mostProbKmer(text, k, profile):\n",
    "    #process profile into usable format\n",
    "    profDict = {}\n",
    "    profDict['A'] = profile[0]\n",
    "    profDict['C'] = profile[1]\n",
    "    profDict['G'] = profile[2]\n",
    "    profDict['T'] = profile[3]\n",
    "    #print(profDict)\n",
    "    probsDict = {}\n",
    "    \n",
    "    for i in range(0, len(text)-k+1):\n",
    "        pat = text[i:k+i]\n",
    "        prob = 1\n",
    "        for b in range(0, len(pat)): #len(pat)=k\n",
    "            prob*=float(profDict[pat[b]][b])\n",
    "        probsDict[pat] = prob\n",
    "    #print(probsDict)\n",
    "    for key, val in probsDict.items():\n",
    "        if val == max(probsDict.values()):\n",
    "            return key\n",
    "            "
   ]
  },
  {
   "cell_type": "code",
   "execution_count": 706,
   "id": "3a60d6c4",
   "metadata": {},
   "outputs": [],
   "source": [
    "profi = np.array([[1,0,0,0.5], [0,0.5,0.5,0], [0,0.5,0.5,0], [0,0,0,0.5]])"
   ]
  },
  {
   "cell_type": "code",
   "execution_count": 707,
   "id": "4681cc06",
   "metadata": {
    "scrolled": true
   },
   "outputs": [
    {
     "data": {
      "text/plain": [
       "'ACGT'"
      ]
     },
     "execution_count": 707,
     "metadata": {},
     "output_type": "execute_result"
    }
   ],
   "source": [
    "mostProbKmer(\"CCGACGTTAG\", 4, profi)"
   ]
  },
  {
   "cell_type": "code",
   "execution_count": 712,
   "id": "275f8ad1",
   "metadata": {},
   "outputs": [],
   "source": [
    "profi = np.array([[0., 0., 0.],[0., 0., 1.],[1., 1., 0.],[0., 0., 0.]])"
   ]
  },
  {
   "cell_type": "code",
   "execution_count": 714,
   "id": "d7930620",
   "metadata": {},
   "outputs": [],
   "source": [
    "profi = np.array([[0, 0, 0],[0, 0, 1],[1, 1, 0],[0, 0, 0]])"
   ]
  },
  {
   "cell_type": "code",
   "execution_count": 722,
   "id": "a6724920",
   "metadata": {
    "scrolled": true
   },
   "outputs": [
    {
     "name": "stdout",
     "output_type": "stream",
     "text": [
      "{'AAG': 0.0, 'AGA': 0.0, 'GAA': 0.0, 'AAT': 0.0, 'ATC': 0.0, 'TCA': 0.0, 'CAG': 0.0, 'AGT': 0.0, 'GTC': 0.0}\n"
     ]
    },
    {
     "data": {
      "text/plain": [
       "'AAG'"
      ]
     },
     "execution_count": 722,
     "metadata": {},
     "output_type": "execute_result"
    }
   ],
   "source": [
    "mostProbKmer(\"AAGAATCAGTCA\", 3, profi)"
   ]
  },
  {
   "cell_type": "code",
   "execution_count": 483,
   "id": "945a1c07",
   "metadata": {},
   "outputs": [
    {
     "data": {
      "text/plain": [
       "('AGAT', 1)"
      ]
     },
     "execution_count": 483,
     "metadata": {},
     "output_type": "execute_result"
    }
   ],
   "source": [
    "medianString([\"ACAT\", \"AGAT\"],4)"
   ]
  },
  {
   "cell_type": "code",
   "execution_count": 482,
   "id": "305bccf3",
   "metadata": {},
   "outputs": [],
   "source": [
    "def medianString(dnas, k):\n",
    "    kmerScore = {}\n",
    "    \n",
    "    #get all possible kmers!\n",
    "    allKmers = iterNeighbors('A'*k, k)\n",
    "    \n",
    "    for kmer in allKmers:\n",
    "        #print(kmer)\n",
    "        score = 0\n",
    "        for s in range(0, len(dnas)):\n",
    "            distance = float(inf)\n",
    "            for i in range (0, len(dnas[s])-k+1):\n",
    "                pat = dnas[s][i:k+i]\n",
    "                currD = hamDist(kmer, pat)\n",
    "                if distance > currD:\n",
    "                    distance = currD\n",
    "                    #print(distance)\n",
    "            score+=distance\n",
    "        kmerScore[kmer] = score\n",
    "    #print(kmerScore)\n",
    "        \n",
    "    for key,val in kmerScore.items():\n",
    "        if val==min(kmerScore.values()):\n",
    "            return key, val\n",
    "        "
   ]
  },
  {
   "cell_type": "code",
   "execution_count": 753,
   "id": "2a3cc911",
   "metadata": {},
   "outputs": [],
   "source": [
    "def consMotif(dnas,k):\n",
    "    score = 0\n",
    "    consensus = \"\"\n",
    "    dnasDF = pd.DataFrame(dnas)[0].str.split('',expand=True).iloc[:,1:-1]\n",
    "    #print(dnasDF)\n",
    "    for i in range(0,dnasDF.shape[1]):\n",
    "        valCts = dnasDF.iloc[:,i].value_counts()\n",
    "        score+=(len(dnas)-max(valCts))\n",
    "        consensus+=valCts.index[0]\n",
    "    \n",
    "    return consensus, score"
   ]
  },
  {
   "cell_type": "code",
   "execution_count": 667,
   "id": "a5775cb2",
   "metadata": {
    "scrolled": true
   },
   "outputs": [
    {
     "data": {
      "text/plain": [
       "('AGGT', 5)"
      ]
     },
     "execution_count": 667,
     "metadata": {},
     "output_type": "execute_result"
    }
   ],
   "source": [
    "consMotif(motifs, 4)"
   ]
  },
  {
   "cell_type": "code",
   "execution_count": 842,
   "id": "444f9a8a",
   "metadata": {},
   "outputs": [],
   "source": [
    "# THE BEST\n",
    "# just cleaned up by deleting commented chunks + replaced medianStrings() for consMotif()\n",
    "# DO:\n",
    "# done fix how profile is calc, multiple probs per col, rather than just one\n",
    "# done +1 to counts so that probs of 0 dont affect mostProbKmer\n",
    "\n",
    "# Using this code for the last question below!\n",
    "\n",
    "def greedyMotifSearch(k, t, dna):\n",
    "    startt = time.time()\n",
    "    bestMotifs = []\n",
    "    bestScore = float(inf)\n",
    "    dicNuc = {'A':0, 'C':1, 'G':2, 'T':3}\n",
    "    \n",
    "    for i in range (0, len(dna.iloc[0])-k+1):\n",
    "        ##print(\"i \" + str(i))\n",
    "        motif = dna.iloc[0][i:k+i]\n",
    "        ##print(\"motif from 1st string: \" + motif)\n",
    "        motifs = []\n",
    "        motifs.append(motif)\n",
    "        profCts = np.array([[1]*k,\n",
    "                            [1]*k,\n",
    "                            [1]*k,\n",
    "                            [1]*k])\n",
    "        score = 0\n",
    "                    \n",
    "        for s in range (1,t):\n",
    "            ##print(\"--------- S= \" + str(s))\n",
    "            profile = np.array([[float(0)]*k,\n",
    "                                [float(0)]*k,\n",
    "                                [float(0)]*k,\n",
    "                                [float(0)]*k])\n",
    "            # form profile matrix\n",
    "            for n in range (0, k): # k=len(motif) \n",
    "                profIndx = dicNuc[motifs[s-1][n]]\n",
    "                profCts[profIndx,n]+=1 \n",
    "                totCol = profCts[:,n].sum()\n",
    "                for r in range (0,4):\n",
    "                    profile[r, n] = profCts[r, n]/totCol\n",
    "\n",
    "            #if i==6:\n",
    "            ##print(\"Profile:\")\n",
    "            ##print(profile)\n",
    "            #print(profCts)\n",
    "            \n",
    "            # Motifi ← Profile-most probable k-mer in the i-th string in Dna (s)\n",
    "            nextMotif = mostProbKmer(dna.iloc[s], k, profile)\n",
    "            ##print(\"prof most prob\")\n",
    "            ##print(nextMotif)\n",
    "            #if i==6:\n",
    "                #print(profCts)\n",
    "                #print(motif +\"  \"+ nextMotif)\n",
    "            motifs.append(nextMotif)\n",
    "                          \n",
    "        # if Score(Motifs) < Score(BestMotifs)\n",
    "        consensus, score = consMotif(motifs,k)\n",
    "        #print(consensus)\n",
    "        ##print(\"SCORE = \" + str(score))\n",
    "        ##print(motifs)\n",
    "        if score < bestScore:\n",
    "            bestScore = score\n",
    "            bestMotifs = motifs\n",
    "        \n",
    "    #print(\"best score= \" + str(bestScore))\n",
    "    print(\"--- Running time: %s seconds ---\" % (time.time() - startt))\n",
    "    print(*bestMotifs) "
   ]
  },
  {
   "cell_type": "code",
   "execution_count": 788,
   "id": "cb78a604",
   "metadata": {
    "scrolled": true
   },
   "outputs": [
    {
     "name": "stdout",
     "output_type": "stream",
     "text": [
      "--- Running time: 4.279117107391357 seconds ---\n",
      "CACTTAGGATTT CCCTCAGGATGT CCCTGAGGATTT TACTTAGGATGT AGCTCAGGATTT CACTAAGGATAT GACTTAGGATGT GCCTCAGGATGT GTCTCAGGATGT ACCTCAGGATCT CTCTAAGGATCT CTCTGAGGATAT GACTGTGCATGT CGCTCAGGATAT GTCTGAGGATTT CCCTGAGGATGT CCCTGAGGATCT AACTCAGGATGT CTCTTAGGATGT CCCTGAGGATCT CCCTGAGGATTT AACTTAGGATGT ATCTGAGGATTT GACTAAGGATCT ATCTTAGGATGT\n"
     ]
    }
   ],
   "source": [
    "greedyMotifSearch(int(file.iloc[0,0].split()[0]), int(file.iloc[0,0].split()[1]), dnain)"
   ]
  },
  {
   "cell_type": "code",
   "execution_count": 801,
   "id": "67283e81",
   "metadata": {
    "scrolled": false
   },
   "outputs": [
    {
     "name": "stdout",
     "output_type": "stream",
     "text": [
      "--- Running time: 0.03570699691772461 seconds ---\n",
      "TTC ATC TTC ATC TTC\n"
     ]
    }
   ],
   "source": [
    "greedyMotifSearch(3, 5, dna)"
   ]
  },
  {
   "cell_type": "code",
   "execution_count": 796,
   "id": "176600df",
   "metadata": {
    "scrolled": false
   },
   "outputs": [
    {
     "data": {
      "text/plain": [
       "0    GCCCAA\n",
       "1    GGCCTG\n",
       "2    AACCTA\n",
       "3    TTCCTT\n",
       "dtype: object"
      ]
     },
     "execution_count": 796,
     "metadata": {},
     "output_type": "execute_result"
    }
   ],
   "source": [
    "file = pd.read_csv(\"GreedyMotifSearch/inputs/input_2.txt\", header=None)\n",
    "pd.Series(file.iloc[1,0].split())"
   ]
  },
  {
   "cell_type": "code",
   "execution_count": 798,
   "id": "e67f0c1b",
   "metadata": {
    "scrolled": false
   },
   "outputs": [
    {
     "name": "stdout",
     "output_type": "stream",
     "text": [
      "--- Running time: 0.01637411117553711 seconds ---\n",
      "CCA CCT CCT CCT\n"
     ]
    }
   ],
   "source": [
    "greedyMotifSearch(int(file.iloc[0,0].split()[0]), int(file.iloc[0,0].split()[1]), pd.Series(file.iloc[1,0].split()))"
   ]
  },
  {
   "cell_type": "code",
   "execution_count": 753,
   "id": "d7787883",
   "metadata": {},
   "outputs": [],
   "source": [
    "def consMotif(dnas,k):\n",
    "    score = 0\n",
    "    consensus = \"\"\n",
    "    dnasDF = pd.DataFrame(dnas)[0].str.split('',expand=True).iloc[:,1:-1]\n",
    "    #print(dnasDF)\n",
    "    for i in range(0,dnasDF.shape[1]):\n",
    "        valCts = dnasDF.iloc[:,i].value_counts()\n",
    "        score+=(len(dnas)-max(valCts))\n",
    "        consensus+=valCts.index[0]\n",
    "    \n",
    "    return consensus, score"
   ]
  },
  {
   "cell_type": "code",
   "execution_count": null,
   "id": "69bf893c",
   "metadata": {},
   "outputs": [],
   "source": [
    "def mostProbKmer(text, k, profile):\n",
    "    #process profile into usable format\n",
    "    profDict = {}\n",
    "    profDict['A'] = profile[0]\n",
    "    profDict['C'] = profile[1]\n",
    "    profDict['G'] = profile[2]\n",
    "    profDict['T'] = profile[3]\n",
    "    #print(profDict)\n",
    "    probsDict = {}\n",
    "    \n",
    "    for i in range(0, len(text)-k+1):\n",
    "        pat = text[i:k+i]\n",
    "        prob = 1\n",
    "        for b in range(0, len(pat)): #len(pat)=k\n",
    "            prob*=float(profDict[pat[b]][b])\n",
    "        probsDict[pat] = prob\n",
    "    #print(probsDict)\n",
    "    for key, val in probsDict.items():\n",
    "        if val == max(probsDict.values()):\n",
    "            return key\n",
    "            "
   ]
  },
  {
   "cell_type": "code",
   "execution_count": 828,
   "id": "2c5803b6",
   "metadata": {},
   "outputs": [],
   "source": [
    "# Initialized prof counts dict to 0 rather than 1 (removing improvement)\n",
    "# initialized bestMotifs to be the first kmer in each dna string and bestScore\n",
    "\n",
    "def greedyMotifSearch(k, t, dna):\n",
    "    startt = time.time()\n",
    "    bestMotifs = [kstr[:k] for kstr in dna]\n",
    "    consensus, bestScore = consMotif(bestMotifs,k)\n",
    "    #bestScore = #float(inf)\n",
    "    dicNuc = {'A':0, 'C':1, 'G':2, 'T':3}\n",
    "    \n",
    "    for i in range (0, len(dna.iloc[0])-k+1):\n",
    "        ##print(\"i \" + str(i))\n",
    "        motif = dna.iloc[0][i:k+i]\n",
    "        ##print(\"motif from 1st string: \" + motif)\n",
    "        motifs = []\n",
    "        motifs.append(motif)\n",
    "        profCts = np.array([[0]*k,\n",
    "                            [0]*k,\n",
    "                            [0]*k,\n",
    "                            [0]*k])\n",
    "        score = 0\n",
    "                    \n",
    "        for s in range (1,t):\n",
    "            ##print(\"--------- S= \" + str(s))\n",
    "            profile = np.array([[float(0)]*k,\n",
    "                                [float(0)]*k,\n",
    "                                [float(0)]*k,\n",
    "                                [float(0)]*k])\n",
    "            # form profile matrix\n",
    "            for n in range (0, k): # k=len(motif) \n",
    "                profIndx = dicNuc[motifs[s-1][n]]\n",
    "                profCts[profIndx,n]+=1 \n",
    "                totCol = profCts[:,n].sum()\n",
    "                for r in range (0,4):\n",
    "                    profile[r, n] = profCts[r, n]/totCol\n",
    "\n",
    "            #if i==6:\n",
    "            ##print(\"Profile:\")\n",
    "            ##print(profile)\n",
    "            #print(profCts)\n",
    "            \n",
    "            # Motifi ← Profile-most probable k-mer in the i-th string in Dna (s)\n",
    "            nextMotif = mostProbKmer(dna.iloc[s], k, profile)\n",
    "            ##print(\"prof most prob\")\n",
    "            ##print(nextMotif)\n",
    "            #if i==6:\n",
    "                #print(profCts)\n",
    "                #print(motif +\"  \"+ nextMotif)\n",
    "            motifs.append(nextMotif)\n",
    "                          \n",
    "        # if Score(Motifs) < Score(BestMotifs)\n",
    "        consensus, score = consMotif(motifs,k)\n",
    "        #print(consensus)\n",
    "        ##print(\"SCORE = \" + str(score))\n",
    "        ##print(motifs)\n",
    "        if score < bestScore:\n",
    "            bestScore = score\n",
    "            bestMotifs = motifs\n",
    "        \n",
    "    #print(\"best score= \" + str(bestScore))\n",
    "    print(\"--- Running time: %s seconds ---\" % (time.time() - startt))\n",
    "    print(*bestMotifs) "
   ]
  },
  {
   "cell_type": "code",
   "execution_count": 817,
   "id": "ffb41438",
   "metadata": {
    "scrolled": true
   },
   "outputs": [
    {
     "name": "stdout",
     "output_type": "stream",
     "text": [
      "--- Running time: 3.677790880203247 seconds ---\n",
      "TCGGGCCACCCT TCTTTTAAACTA ACTTCACGCAGC ATCCGATAGGTC CGACCGACGGAT ATGGGATACCGT ACTTGCTGCGGT ATGGGCACAGGC AGTGGTTGCGGC ACTTGATGCGGA TCACGATGAGGC ATTCGTTGCGGA ACATGCTGACTC ACTGGATGCGGA ACTTCCTGGGTC ATTGGCTGCGGA ACACGATGCAGT ATTGGCAGGATT ATGTGAACCGGA AGTTGCTGCGGT AGGGGACGCCGA ATTCGATGCGGT ACTCGGTGCGGC ATTGGTTGCGGT AGTGGATGCGGA\n"
     ]
    }
   ],
   "source": [
    "greedyMotifSearch(int(file.iloc[0,0].split()[0]), int(file.iloc[0,0].split()[1]), pd.Series(file.iloc[1,0].split()))"
   ]
  },
  {
   "cell_type": "code",
   "execution_count": 810,
   "id": "fee938bd",
   "metadata": {
    "scrolled": true
   },
   "outputs": [
    {
     "name": "stdout",
     "output_type": "stream",
     "text": [
      "--- Running time: 0.04476499557495117 seconds ---\n",
      "CAG CAG CAA CAA CAA\n"
     ]
    }
   ],
   "source": [
    "Dna = pd.Series([\"GGCGTTCAGGCA\", \"AAGAATCAGTCA\", \"CAAGGAGTTCGC\", \"CACGTCAATCAC\", \"CAATAATATTCG\"])\n",
    "greedyMotifSearch(3,5,Dna)"
   ]
  },
  {
   "cell_type": "code",
   "execution_count": null,
   "id": "5ca55250",
   "metadata": {
    "scrolled": true
   },
   "outputs": [],
   "source": [
    "file = pd.read_csv(\"dataset_30305_5 (6).txt\", header=None)"
   ]
  },
  {
   "cell_type": "code",
   "execution_count": 814,
   "id": "d695a298",
   "metadata": {
    "scrolled": true
   },
   "outputs": [
    {
     "name": "stdout",
     "output_type": "stream",
     "text": [
      "--- Running time: 3.924293041229248 seconds ---\n",
      "TCGGGCCACCCT TCTTTTAAACTA ACTTCACGCAGC ATCCGATAGGTC CGACCGACGGAT ATGGGATACCGT ACTTGCTGCGGT ATGGGCACAGGC AGTGGTTGCGGC ACTTGATGCGGA TCACGATGAGGC ATTCGTTGCGGA ACATGCTGACTC ACTGGATGCGGA ACTTCCTGGGTC ATTGGCTGCGGA ACACGATGCAGT ATTGGCAGGATT ATGTGAACCGGA AGTTGCTGCGGT AGGGGACGCCGA ATTCGATGCGGT ACTCGGTGCGGC ATTGGTTGCGGT AGTGGATGCGGA\n"
     ]
    }
   ],
   "source": [
    "# last (without initializing prof counts dict to 0 rather than 1, otherwise marked wrong for this question)\n",
    "greedyMotifSearch(int(file.iloc[0,0].split()[0]), int(file.iloc[0,0].split()[1]), pd.Series(file.iloc[1,0].split()))"
   ]
  },
  {
   "cell_type": "code",
   "execution_count": null,
   "id": "c2c3032e",
   "metadata": {
    "scrolled": true
   },
   "outputs": [],
   "source": [
    "file = pd.read_csv(\"GreedyMotifSearch/inputs/input_6.txt\", header=None)"
   ]
  },
  {
   "cell_type": "code",
   "execution_count": 841,
   "id": "19ec1391",
   "metadata": {
    "scrolled": true
   },
   "outputs": [
    {
     "name": "stdout",
     "output_type": "stream",
     "text": [
      "--- Running time: 3.89448618888855 seconds ---\n",
      "CTGAGCGGTTTA CGGTGCAGCTAA CCCATACTTCAT GGTTCGGCTGAT GGTTGAGTCCAA TCTCATTGTGAT CCGCGCGGTTAT GGCCAAGTCTAT TCGTGACGCTAA GGGTGCGGCTAA TGGTGAGGCTAA ACGGGTATAGAT TGGTGATGCTAA CGGTGATGCTAA GCGTGACGCTAA TTGTGGCGCTAA ACGTGCCGCTAA TGTAAAGGATAA AGCCGAGGCCAT GTGTGCCGCTAA CCGTGTCGCTAA AGGTGGAGCTAA ATGTGTTGCTAA CTGTGTCGCTAA GGGTGACGCTAA\n"
     ]
    }
   ],
   "source": [
    "# last \n",
    "greedyMotifSearch(int(file.iloc[0,0].split()[0]), int(file.iloc[0,0].split()[1]), pd.Series(file.iloc[1,0].split()))"
   ]
  },
  {
   "cell_type": "markdown",
   "id": "60d50af9",
   "metadata": {},
   "source": [
    "### Implement GreedyMotifSearch with pseudocounts. (this is the code I already had for the prev question)\n",
    "\n",
    "Input: Integers k and t, followed by a space-separated collection of strings Dna.\n",
    "\n",
    "Output: A collection of strings BestMotifs resulting from applying GreedyMotifSearch(Dna, k, t) with pseudocounts. If at any step you find more than one Profile-most probable k-mer in a given string, use the one occurring first."
   ]
  },
  {
   "cell_type": "code",
   "execution_count": null,
   "id": "cdc4489f",
   "metadata": {
    "scrolled": true
   },
   "outputs": [],
   "source": [
    "file = pd.read_csv(\"dataset_30306_9.txt\", header=None)"
   ]
  },
  {
   "cell_type": "code",
   "execution_count": 845,
   "id": "ceb1001f",
   "metadata": {
    "scrolled": true
   },
   "outputs": [
    {
     "name": "stdout",
     "output_type": "stream",
     "text": [
      "--- Running time: 0.05089211463928223 seconds ---\n",
      "TTC ATC TTC ATC TTC\n"
     ]
    }
   ],
   "source": [
    "# using my second to last function (the one with the improvements, best one)\n",
    "greedyMotifSearch(int(file.iloc[0,0].split()[0]), int(file.iloc[0,0].split()[1]), pd.Series(file.iloc[1,0].split()))"
   ]
  },
  {
   "cell_type": "code",
   "execution_count": 847,
   "id": "b5b95710",
   "metadata": {
    "scrolled": true
   },
   "outputs": [
    {
     "name": "stdout",
     "output_type": "stream",
     "text": [
      "--- Running time: 5.497705936431885 seconds ---\n",
      "GCGCAGACTCCT GCACAAGCTCCT GCCTACGCTCCT GCGAATACTCCT GCCAAGGCTCCT GCTTATCCTCCT GCTAATGCTCCT GCGAATACTCCT GCGCAGACTCCT GCTTACGCTCCT GCGCACGCTCCT GCCGATGCTCCT GCCCAGACTCCT GCCAATACTCCT GCTGAGTCTCCT GCCCATACTCCT GCGAACCCTCCT GCCGATGCTCCT GCAGAGCCTCCT GCTCATTCTCCT GCACATTCTCCT GCATACCCTCCT GCCCACTCTCCT GCCTACGCTCCT GCCCATTCTCCT\n"
     ]
    }
   ],
   "source": [
    "# using my second to last function (the one with the improvements)\n",
    "greedyMotifSearch(int(file.iloc[0,0].split()[0]), int(file.iloc[0,0].split()[1]), pd.Series(file.iloc[1,0].split()))"
   ]
  },
  {
   "cell_type": "code",
   "execution_count": null,
   "id": "d7a30d50",
   "metadata": {},
   "outputs": [],
   "source": []
  }
 ],
 "metadata": {
  "kernelspec": {
   "display_name": "Python 3 (ipykernel)",
   "language": "python",
   "name": "python3"
  },
  "language_info": {
   "codemirror_mode": {
    "name": "ipython",
    "version": 3
   },
   "file_extension": ".py",
   "mimetype": "text/x-python",
   "name": "python",
   "nbconvert_exporter": "python",
   "pygments_lexer": "ipython3",
   "version": "3.10.9"
  }
 },
 "nbformat": 4,
 "nbformat_minor": 5
}
