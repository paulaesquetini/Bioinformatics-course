{
 "cells": [
  {
   "cell_type": "markdown",
   "id": "fd29d5c8",
   "metadata": {},
   "source": [
    "### Implement PatternCount \n"
   ]
  },
  {
   "cell_type": "code",
   "execution_count": 1,
   "id": "f14da167",
   "metadata": {},
   "outputs": [],
   "source": [
    "import pandas as pd"
   ]
  },
  {
   "cell_type": "code",
   "execution_count": 2,
   "id": "e6c41c25",
   "metadata": {},
   "outputs": [],
   "source": [
    "def patternCount(text, pat):\n",
    "    count = 0\n",
    "    for i in range(0, len(text)):\n",
    "        if text[i:len(pat)+i]==pat:\n",
    "            count+=1\n",
    "\n",
    "    return count\n"
   ]
  },
  {
   "cell_type": "code",
   "execution_count": 8,
   "id": "a7752b0c",
   "metadata": {},
   "outputs": [
    {
     "name": "stdout",
     "output_type": "stream",
     "text": [
      "GGAATGCGG\n"
     ]
    }
   ],
   "source": [
    "file = pd.read_csv(\"dataset_30272_6 (2).txt\", header=None)\n",
    "print(file.iloc[1,0])"
   ]
  },
  {
   "cell_type": "code",
   "execution_count": 9,
   "id": "aeab1dbc",
   "metadata": {},
   "outputs": [
    {
     "data": {
      "text/plain": [
       "34"
      ]
     },
     "execution_count": 9,
     "metadata": {},
     "output_type": "execute_result"
    }
   ],
   "source": [
    "patternCount(file.iloc[0,0], file.iloc[1,0])"
   ]
  },
  {
   "cell_type": "markdown",
   "id": "63173690",
   "metadata": {},
   "source": [
    "### Solve the Frequent Words Problem\n",
    "\n",
    "Input: A string Text and an integer k.\n",
    "\n",
    "Output: All most frequent k-mers in Text."
   ]
  },
  {
   "cell_type": "code",
   "execution_count": 55,
   "id": "cec4ad70",
   "metadata": {},
   "outputs": [],
   "source": [
    "def freqKmers(text, k):\n",
    "    kmerdic = {}\n",
    "    freqKs = []\n",
    "    for i in range (0, len(text)-k+1):\n",
    "        if text[i:k+i] in kmerdic.keys():\n",
    "            kmerdic[text[i:k+i]]+=1\n",
    "        else:\n",
    "            kmerdic[text[i:k+i]]=1\n",
    "            \n",
    "    for key,val in kmerdic.items():\n",
    "        if val==max(kmerdic.values()):\n",
    "            freqKs.append(key)\n",
    "\n",
    "    print(*freqKs)"
   ]
  },
  {
   "cell_type": "code",
   "execution_count": 1,
   "id": "eac1ecd4",
   "metadata": {},
   "outputs": [],
   "source": [
    "test = \"ACGTTGCATGTCGCATGATGCATGAGAGCT\""
   ]
  },
  {
   "cell_type": "code",
   "execution_count": 91,
   "id": "421f54b8",
   "metadata": {
    "scrolled": true
   },
   "outputs": [
    {
     "name": "stdout",
     "output_type": "stream",
     "text": [
      "GCAT CATG\n"
     ]
    }
   ],
   "source": [
    "freqKmers(test, 4)"
   ]
  },
  {
   "cell_type": "code",
   "execution_count": null,
   "id": "6072a81b",
   "metadata": {},
   "outputs": [],
   "source": [
    "file = pd.read_csv(\"dataset_30272_13 (2).txt\", header=None)"
   ]
  },
  {
   "cell_type": "code",
   "execution_count": 103,
   "id": "85ad98d0",
   "metadata": {},
   "outputs": [
    {
     "name": "stdout",
     "output_type": "stream",
     "text": [
      "TTTAGTCCAATTT TTAGTCCAATTTA TAGTCCAATTTAG AGTCCAATTTAGT GTCCAATTTAGTC TCCAATTTAGTCC CCAATTTAGTCCA CAATTTAGTCCAA\n"
     ]
    }
   ],
   "source": [
    "freqKmers(file.iloc[0,0],int(file.iloc[1,0]))"
   ]
  },
  {
   "cell_type": "markdown",
   "id": "20482c61",
   "metadata": {},
   "source": [
    "### Reverse complement\n",
    "\n",
    "Same as in Rosalind, copied my solution here"
   ]
  },
  {
   "cell_type": "code",
   "execution_count": 105,
   "id": "411dad79",
   "metadata": {},
   "outputs": [],
   "source": [
    "def revCompl(s):\n",
    "    rev = s[::-1]\n",
    "    compGuide = {\"A\":\"T\", \"C\":\"G\", \"T\":\"A\", \"G\":\"C\"}\n",
    "    revC = \"\"\n",
    "    for nt in rev:\n",
    "        revC+=compGuide[nt]\n",
    "        \n",
    "    return revC"
   ]
  },
  {
   "cell_type": "code",
   "execution_count": 106,
   "id": "931ccbb9",
   "metadata": {
    "scrolled": true
   },
   "outputs": [
    {
     "data": {
      "text/plain": [
       "'ACCGGGTTTT'"
      ]
     },
     "execution_count": 106,
     "metadata": {},
     "output_type": "execute_result"
    }
   ],
   "source": [
    "revCompl(\"AAAACCCGGT\")"
   ]
  },
  {
   "cell_type": "code",
   "execution_count": null,
   "id": "8912ec9a",
   "metadata": {
    "scrolled": true
   },
   "outputs": [],
   "source": [
    "file = pd.read_csv(\"dataset_30273_2.txt\", header=None)"
   ]
  },
  {
   "cell_type": "code",
   "execution_count": null,
   "id": "01e45491",
   "metadata": {},
   "outputs": [],
   "source": [
    "revCompl(file.iloc[0,0])"
   ]
  },
  {
   "cell_type": "markdown",
   "id": "9e5b338c",
   "metadata": {},
   "source": [
    "### Solve the Pattern Matching Problem"
   ]
  },
  {
   "cell_type": "code",
   "execution_count": 4,
   "id": "92e89848",
   "metadata": {},
   "outputs": [],
   "source": [
    "import re"
   ]
  },
  {
   "cell_type": "code",
   "execution_count": 39,
   "id": "319f355f",
   "metadata": {},
   "outputs": [],
   "source": [
    "def patMatch(pat, text):\n",
    "    starts = []\n",
    "    for i in range (0, len(text)-len(pat)+1):\n",
    "        if text[i:len(pat)+i] == pat:\n",
    "            starts.append(i)            \n",
    "            \n",
    "    print(*starts)"
   ]
  },
  {
   "cell_type": "code",
   "execution_count": 34,
   "id": "98cb18ba",
   "metadata": {},
   "outputs": [],
   "source": [
    "def patMatch(pat, seq):\n",
    "    results = re.finditer(pat, seq)\n",
    "    print(*[result.start() for result in results])"
   ]
  },
  {
   "cell_type": "code",
   "execution_count": 44,
   "id": "180ac277",
   "metadata": {},
   "outputs": [
    {
     "name": "stdout",
     "output_type": "stream",
     "text": [
      "1 3 9\n"
     ]
    }
   ],
   "source": [
    "patMatch(\"ATAT\",\"GATATATGCATATACTT\")"
   ]
  },
  {
   "cell_type": "code",
   "execution_count": null,
   "id": "d4738915",
   "metadata": {},
   "outputs": [],
   "source": [
    "file = pd.read_csv(\"Vibrio_cholerae.txt\", header=None)"
   ]
  },
  {
   "cell_type": "code",
   "execution_count": 52,
   "id": "b4d2ca81",
   "metadata": {},
   "outputs": [
    {
     "name": "stdout",
     "output_type": "stream",
     "text": [
      "60039 98409 129189 152283 152354 152411 163207 197028 200160 357976 376771 392723 532935 600085 622755 1065555\n"
     ]
    }
   ],
   "source": [
    "patMatch(\"CTTGATCAT\", file.iloc[0,0])"
   ]
  },
  {
   "cell_type": "markdown",
   "id": "d9080295",
   "metadata": {},
   "source": [
    "### Clump Finding Problem\n",
    "\n",
    "Input: A string Genome, and integers k, L, and t.\n",
    "\n",
    "Output: All distinct k-mers forming (L, t)-clumps in Genome."
   ]
  },
  {
   "cell_type": "code",
   "execution_count": 2,
   "id": "0861f6dd",
   "metadata": {},
   "outputs": [],
   "source": [
    "def freqTab(text, k):\n",
    "    kmerdic = {}\n",
    "    for i in range (0, len(text)-k+1):\n",
    "        if text[i:k+i] in kmerdic.keys():\n",
    "            kmerdic[text[i:k+i]]+=1\n",
    "        else:\n",
    "            kmerdic[text[i:k+i]]=1\n",
    "\n",
    "    return kmerdic"
   ]
  },
  {
   "cell_type": "code",
   "execution_count": 6,
   "id": "0a08ebbd",
   "metadata": {},
   "outputs": [],
   "source": [
    "def findClumps(text, k, L, t):\n",
    "    kmerdic = {}\n",
    "    kmers = []\n",
    "    n = len(text)\n",
    "    for i in range (0, n-L+1):\n",
    "        kmerdic = freqTab(text[i:L+i],k)\n",
    "        for key,val in kmerdic.items():\n",
    "            if val>=t:\n",
    "                kmers.append(key)\n",
    "                #print(key)\n",
    "    #remove duplicates\n",
    "    kmers = set(kmers)\n",
    "    print(*kmers)"
   ]
  },
  {
   "cell_type": "code",
   "execution_count": 15,
   "id": "9b84ca8a",
   "metadata": {
    "scrolled": true
   },
   "outputs": [
    {
     "name": "stdout",
     "output_type": "stream",
     "text": [
      "\n"
     ]
    }
   ],
   "source": [
    "seq = \"CGGACTCGACAGATGTGAAGAACGACAATGTGAAGACTCGACACGACAGAGTGAAGAGAAGAGGAAACATTGTAA\"\n",
    "findClumps(seq,3,50,7)"
   ]
  },
  {
   "cell_type": "code",
   "execution_count": 23,
   "id": "b7a00910",
   "metadata": {},
   "outputs": [
    {
     "name": "stdout",
     "output_type": "stream",
     "text": [
      "10 30 3\n"
     ]
    }
   ],
   "source": [
    "file = pd.read_csv(\"dataset_30274_5 (1).txt\", header=None)\n",
    "print(file.iloc[1,0])"
   ]
  },
  {
   "cell_type": "code",
   "execution_count": 24,
   "id": "71c0ab4f",
   "metadata": {},
   "outputs": [
    {
     "name": "stdout",
     "output_type": "stream",
     "text": [
      "ATGCTCATAG CTCATAGATG ATAGATGCTC CACCATTCGG AGATGCTCAT GATGCTCATA TAGATGCTCA CATAGATGCT CGGCACCATT TGCTCATAGA TCGGCACCAT CCATTCGGCA TCATAGATGC TTCGGCACCA GGCACCATTC GCTCATAGAT GCACCATTCG CATTCGGCAC ACCATTCGGC ATTCGGCACC\n"
     ]
    }
   ],
   "source": [
    "findClumps(file.iloc[0,0], int(str.split(file.iloc[1,0])[0]), \n",
    "           int(str.split(file.iloc[1,0])[1]), \n",
    "           int(str.split(file.iloc[1,0])[2]))"
   ]
  },
  {
   "cell_type": "code",
   "execution_count": 22,
   "id": "f4da6440",
   "metadata": {},
   "outputs": [
    {
     "name": "stdout",
     "output_type": "stream",
     "text": [
      "AGA GAG GAA GAC\n"
     ]
    }
   ],
   "source": [
    "findClumps(seq,3,22,3)"
   ]
  },
  {
   "cell_type": "code",
   "execution_count": 36,
   "id": "644bc89a",
   "metadata": {},
   "outputs": [
    {
     "data": {
      "text/plain": [
       "'AGCTTTTCATTCTGACTGCAACG'"
      ]
     },
     "execution_count": 36,
     "metadata": {},
     "output_type": "execute_result"
    }
   ],
   "source": [
    "file = pd.read_csv(\"Ecoligen.txt\", header=None)\n",
    "file.iloc[0,0][0:23]"
   ]
  },
  {
   "cell_type": "code",
   "execution_count": 46,
   "id": "ed731135",
   "metadata": {},
   "outputs": [],
   "source": [
    "def countClumps(text, k, L, t):\n",
    "    kmerdic = {}\n",
    "    kmers = []\n",
    "    n = len(text)\n",
    "    for i in range (0, n-L+1):\n",
    "        kmerdic = freqTab(text[i:L+i],k)\n",
    "        for key,val in kmerdic.items():\n",
    "            if val>=t:\n",
    "                kmers.append(key)\n",
    "    #remove duplicates\n",
    "    kmers = set(kmers)\n",
    "    print(len(kmers))"
   ]
  },
  {
   "cell_type": "code",
   "execution_count": 47,
   "id": "b07664f1",
   "metadata": {},
   "outputs": [
    {
     "name": "stdout",
     "output_type": "stream",
     "text": [
      "1904\n"
     ]
    }
   ],
   "source": [
    "countClumps(file.iloc[0,0],9,500,3)"
   ]
  },
  {
   "cell_type": "code",
   "execution_count": null,
   "id": "ab502b72",
   "metadata": {},
   "outputs": [],
   "source": []
  }
 ],
 "metadata": {
  "kernelspec": {
   "display_name": "Python 3 (ipykernel)",
   "language": "python",
   "name": "python3"
  },
  "language_info": {
   "codemirror_mode": {
    "name": "ipython",
    "version": 3
   },
   "file_extension": ".py",
   "mimetype": "text/x-python",
   "name": "python",
   "nbconvert_exporter": "python",
   "pygments_lexer": "ipython3",
   "version": "3.10.9"
  }
 },
 "nbformat": 4,
 "nbformat_minor": 5
}
