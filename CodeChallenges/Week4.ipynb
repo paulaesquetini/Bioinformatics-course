{
 "cells": [
  {
   "cell_type": "markdown",
   "id": "b4c2ae72",
   "metadata": {},
   "source": [
    "### Implement RandomizedMotifSearch.\n",
    "\n",
    "Input: Integers k and t, followed by a space-separated collection of strings Dna.\n",
    "\n",
    "Output: A collection BestMotifs resulting from running RandomizedMotifSearch(Dna, k, t) 1,000 times. Remember to use pseudocounts!"
   ]
  },
  {
   "cell_type": "raw",
   "id": "108add18",
   "metadata": {},
   "source": [
    "RandomizedMotifSearch(Dna, k, t)\n",
    "    randomly select k-mers Motifs = (Motif1, …, Motift) in each string from Dna\n",
    "    BestMotifs ← Motifs\n",
    "    while forever\n",
    "        Profile ← Profile(Motifs)\n",
    "        Motifs ← Motifs(Profile, Dna)\n",
    "        if Score(Motifs) < Score(BestMotifs)\n",
    "            BestMotifs ← Motifs\n",
    "        else\n",
    "            return BestMotifs"
   ]
  },
  {
   "cell_type": "code",
   "execution_count": 21,
   "id": "bd6d2531",
   "metadata": {},
   "outputs": [],
   "source": [
    "import random\n",
    "import pandas as pd\n",
    "import time\n",
    "import numpy as np"
   ]
  },
  {
   "cell_type": "code",
   "execution_count": 67,
   "id": "4642ff82",
   "metadata": {},
   "outputs": [],
   "source": [
    "def mostProbKmer(text, k, profile):\n",
    "    #process profile into usable format\n",
    "    profDict = {}\n",
    "    profDict['A'] = profile[0]\n",
    "    profDict['C'] = profile[1]\n",
    "    profDict['G'] = profile[2]\n",
    "    profDict['T'] = profile[3]\n",
    "    #print(profDict)\n",
    "    probsDict = {}\n",
    "    \n",
    "    for i in range(0, len(text)-k+1):\n",
    "        pat = text[i:k+i]\n",
    "        prob = 1\n",
    "        for b in range(0, len(pat)): #len(pat)=k\n",
    "            prob*=float(profDict[pat[b]][b])\n",
    "        probsDict[pat] = prob\n",
    "    #print(probsDict)\n",
    "    for key, val in probsDict.items():\n",
    "        if val == max(probsDict.values()):\n",
    "            return key\n",
    "            "
   ]
  },
  {
   "cell_type": "code",
   "execution_count": 92,
   "id": "b87e6502",
   "metadata": {},
   "outputs": [],
   "source": [
    "def score(dnas):\n",
    "    score = 0\n",
    "    dnasDF = pd.DataFrame(dnas)[0].str.split('',expand=True).iloc[:,1:-1]\n",
    "\n",
    "    for i in range(0,dnasDF.shape[1]):\n",
    "        valCts = dnasDF.iloc[:,i].value_counts()\n",
    "        score+=(len(dnas)-max(valCts))    \n",
    "    return score"
   ]
  },
  {
   "cell_type": "code",
   "execution_count": 70,
   "id": "993d49e4",
   "metadata": {},
   "outputs": [],
   "source": [
    "# profile\n",
    "def profile(motifs):\n",
    "    k = len(motifs[0])\n",
    "    dicNuc = {'A':0, 'C':1, 'G':2, 'T':3}\n",
    "    profCts = np.array([[1]*k,\n",
    "                            [1]*k,\n",
    "                            [1]*k,\n",
    "                            [1]*k])\n",
    "    \n",
    "    profile = np.array([[float(0)]*k,\n",
    "                        [float(0)]*k,\n",
    "                        [float(0)]*k,\n",
    "                        [float(0)]*k])\n",
    "    \n",
    "    for n in range (0, k): \n",
    "        for motf in motifs:\n",
    "            #get profile counts\n",
    "            profIndx = dicNuc[motf[n]]\n",
    "            profCts[profIndx,n]+=1 \n",
    "        totCol = profCts[:,n].sum()     \n",
    "        for r in range (0,4):\n",
    "            profile[r, n] = profCts[r, n]/totCol\n",
    "        \n",
    "    return profile                "
   ]
  },
  {
   "cell_type": "code",
   "execution_count": 93,
   "id": "c75a947b",
   "metadata": {},
   "outputs": [],
   "source": [
    "def randomizedMotifSearch(dna, k, t):\n",
    "    motifs = []\n",
    "    for stri in dna:\n",
    "        # random motifs\n",
    "        r = random.randrange(0,len(stri)-k+1)\n",
    "        #print(r)\n",
    "        motifs.append(stri[r:k+r])\n",
    "    bestMotifs = motifs\n",
    "    \n",
    "    while 1==1:\n",
    "        prof = profile(motifs)\n",
    "        motifs = []\n",
    "        for stri in dna:    \n",
    "            motifs.append(mostProbKmer(stri, k , prof))\n",
    "        \n",
    "        scor = score(motifs)\n",
    "        bestScore = scor\n",
    "        if scor < score(bestMotifs):\n",
    "            bestMotifs = motifs\n",
    "            bestScore = scor\n",
    "        else:\n",
    "            return bestScore, bestMotifs"
   ]
  },
  {
   "cell_type": "code",
   "execution_count": 94,
   "id": "3a330c66",
   "metadata": {
    "scrolled": true
   },
   "outputs": [
    {
     "name": "stdout",
     "output_type": "stream",
     "text": [
      "CCATGCTAAGTCCAATCTAGCGGTCTTGAGTACCCGGGAAAAATGACAGTATACTTACTCGGCCCGGAAACGAGAGGGTCAAGCAGTTGTTTGCTGTCAGTTGGGGTTAACAGTCCGCAAGGATCCCAATCCCTTGCGCGCTCTAGAAACGTTCATCGGATATTTCGAGAATACTCTTGATTTCAGGAGCGCCATTTAAGAACC\n"
     ]
    }
   ],
   "source": [
    "file = pd.read_csv(\"dataset_30307_5 (1).txt\", header=None)\n",
    "print(file.iloc[1,0].split()[1])"
   ]
  },
  {
   "cell_type": "code",
   "execution_count": 95,
   "id": "d2e4004b",
   "metadata": {},
   "outputs": [
    {
     "data": {
      "text/plain": [
       "0     CGCCATTTAAGAACCCCATGCTAAGTCCAATCTAGCGGTCTTGAGT...\n",
       "1     CCATGCTAAGTCCAATCTAGCGGTCTTGAGTACCCGGGAAAAATGA...\n",
       "2     TGTCGCGGGCTGTGCAGGAACGACCTCAGGAACTTCTCTGGGTACT...\n",
       "3     AGCGAGGGCACGACTTAAAAGTAACATATTGTTAGCGATATCATCC...\n",
       "4     ATACACCCTTCGCGAAAGTGTCCACGTACTAGACATGCCGTTTGCG...\n",
       "5     AACTCGACCGGATAGTTATTCGGGACAACGTGACGATCCGATGGGG...\n",
       "6     AATCTGATAATCGTTGAAGAACAGCTTCCTCACGCAGGAAGCGCTT...\n",
       "7     ACCCCACCGGGGTCTATTTGGAGCAGCCACGTACGAGAGGGAATGG...\n",
       "8     GTTACGTTCCGGCACACAACAGCGCTATCTCAACCTTGCACCTAGC...\n",
       "9     GCTCCCGCGGACTATGATGCCAAATGCAAACGTGATATAGAGGGAC...\n",
       "10    GATGGAACTTTCATCGTTCAGATAAAGAACGTGGCAAAAGATATGT...\n",
       "11    ATAAGCTGACCTTACACCGATTTAAAGAGGGTGATCAAGACTCAAA...\n",
       "12    ATTAAGGTGTCTTATTCACAGGAAGACAAACAGCTATCCGATTACC...\n",
       "13    AAGGTAGCGTGCGCTGCGTGCCTCTCTTAGAGCATCGTACGCCGGC...\n",
       "14    GGATAGAGTTCGCTACAAGTGCGTATCGAAGACTACTTGTAGCATG...\n",
       "15    CGCTACTCACTATTGTCCATTACTCACTTACCGATTACGAGCTTGG...\n",
       "16    GCAAGAGGTGGAAGCGGTACAAGCCTAGTTAGCCGATTACGATGTG...\n",
       "17    TATTTTGCGTGGCTCTGAAACCTGAACACCAACGTCCGTCGCTCAA...\n",
       "18    AACCCGACGCCGAGAGGGATGTCGTGCGGGCTAGTAATCTTCCGAG...\n",
       "19    GCTAGCTCAGCCATGGTACCTGGTGTCATATGAAAGCAGCCAGTAT...\n",
       "dtype: object"
      ]
     },
     "execution_count": 95,
     "metadata": {},
     "output_type": "execute_result"
    }
   ],
   "source": [
    "pd.Series(file.iloc[1,0].split())"
   ]
  },
  {
   "cell_type": "code",
   "execution_count": 96,
   "id": "51e33227",
   "metadata": {},
   "outputs": [
    {
     "name": "stdout",
     "output_type": "stream",
     "text": [
      "--- Running time: 156.08359217643738 seconds ---\n",
      "TTGATTTCAGGAGCG CCGGAAACGAGAGGG CCGATTAATGGAGGG CCGATTACGCCGGGG GCGATTACGAGAGTA CCGATGGGGAGAGGG CAATTTACGAGAGGG CCACGTACGAGAGGG TGAATTACGAGAGGG TTGATTACGAGAGGC CCGATGGTGAGAGGG CCGATTTAAAGAGGG CCGATTACCTCAGGG CCGGACACGAGAGGG CCGAAGCCGAGAGGG CCGATTACGAGCTTG CCGATTACGATGTGG CCGATTTGAAGAGGG CCGACGCCGAGAGGG CCGATTACGAGACAC\n"
     ]
    }
   ],
   "source": [
    "# RUNNING CELL\n",
    "startt = time.time()\n",
    "motDi = {}\n",
    "for i in range (0,1000):\n",
    "    i+=1\n",
    "    key, value = randomizedMotifSearch(pd.Series(file.iloc[1,0].split()), int(file.iloc[0,0].split()[0]),int(file.iloc[0,0].split()[1]))\n",
    "    motDi[key] = value\n",
    "        \n",
    "for key, val in motDi.items():\n",
    "    if key == min(motDi.keys()):\n",
    "        print(\"--- Running time: %s seconds ---\" % (time.time() - startt))\n",
    "        print(*val)"
   ]
  },
  {
   "cell_type": "code",
   "execution_count": null,
   "id": "bb9f667f",
   "metadata": {},
   "outputs": [],
   "source": []
  }
 ],
 "metadata": {
  "kernelspec": {
   "display_name": "Python 3 (ipykernel)",
   "language": "python",
   "name": "python3"
  },
  "language_info": {
   "codemirror_mode": {
    "name": "ipython",
    "version": 3
   },
   "file_extension": ".py",
   "mimetype": "text/x-python",
   "name": "python",
   "nbconvert_exporter": "python",
   "pygments_lexer": "ipython3",
   "version": "3.10.9"
  }
 },
 "nbformat": 4,
 "nbformat_minor": 5
}
