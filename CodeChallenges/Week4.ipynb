{
 "cells": [
  {
   "cell_type": "markdown",
   "id": "b4c2ae72",
   "metadata": {},
   "source": [
    "### Implement RandomizedMotifSearch.\n",
    "\n",
    "Input: Integers k and t, followed by a space-separated collection of strings Dna.\n",
    "\n",
    "Output: A collection BestMotifs resulting from running RandomizedMotifSearch(Dna, k, t) 1,000 times. Remember to use pseudocounts!"
   ]
  },
  {
   "cell_type": "code",
   "execution_count": 106,
   "id": "bd6d2531",
   "metadata": {},
   "outputs": [],
   "source": [
    "import random\n",
    "import pandas as pd\n",
    "import time\n",
    "import numpy as np"
   ]
  },
  {
   "cell_type": "code",
   "execution_count": 67,
   "id": "2a04e143",
   "metadata": {},
   "outputs": [],
   "source": [
    "def mostProbKmer(text, k, profile):\n",
    "    #process profile into usable format\n",
    "    profDict = {}\n",
    "    profDict['A'] = profile[0]\n",
    "    profDict['C'] = profile[1]\n",
    "    profDict['G'] = profile[2]\n",
    "    profDict['T'] = profile[3]\n",
    "    #print(profDict)\n",
    "    probsDict = {}\n",
    "    \n",
    "    for i in range(0, len(text)-k+1):\n",
    "        pat = text[i:k+i]\n",
    "        prob = 1\n",
    "        for b in range(0, len(pat)): #len(pat)=k\n",
    "            prob*=float(profDict[pat[b]][b])\n",
    "        probsDict[pat] = prob\n",
    "    #print(probsDict)\n",
    "    for key, val in probsDict.items():\n",
    "        if val == max(probsDict.values()):\n",
    "            return key\n",
    "            "
   ]
  },
  {
   "cell_type": "code",
   "execution_count": 92,
   "id": "1d109652",
   "metadata": {},
   "outputs": [],
   "source": [
    "def score(dnas):\n",
    "    score = 0\n",
    "    dnasDF = pd.DataFrame(dnas)[0].str.split('',expand=True).iloc[:,1:-1]\n",
    "\n",
    "    for i in range(0,dnasDF.shape[1]):\n",
    "        valCts = dnasDF.iloc[:,i].value_counts()\n",
    "        score+=(len(dnas)-max(valCts))    \n",
    "    return score"
   ]
  },
  {
   "cell_type": "code",
   "execution_count": 125,
   "id": "53823c62",
   "metadata": {},
   "outputs": [],
   "source": [
    "# profile\n",
    "def profile(motifs):\n",
    "    k = len(motifs[0])\n",
    "    dicNuc = {'A':0, 'C':1, 'G':2, 'T':3}\n",
    "    profCts = np.array([[1]*k,\n",
    "                            [1]*k,\n",
    "                            [1]*k,\n",
    "                            [1]*k])\n",
    "    \n",
    "    profile = np.array([[float(0)]*k,\n",
    "                        [float(0)]*k,\n",
    "                        [float(0)]*k,\n",
    "                        [float(0)]*k])\n",
    "    \n",
    "    for n in range (0, k): \n",
    "        for motf in motifs:\n",
    "            #get profile counts\n",
    "            profIndx = dicNuc[motf[n]]\n",
    "            profCts[profIndx,n]+=1 \n",
    "        totCol = profCts[:,n].sum()     \n",
    "        for r in range (0,4):\n",
    "            profile[r, n] = profCts[r, n]/totCol\n",
    "        \n",
    "    return profile                "
   ]
  },
  {
   "cell_type": "code",
   "execution_count": 93,
   "id": "ad7e9c68",
   "metadata": {},
   "outputs": [],
   "source": [
    "def randomizedMotifSearch(dna, k, t):\n",
    "    motifs = []\n",
    "    for stri in dna:\n",
    "        # random motifs\n",
    "        r = random.randrange(0,len(stri)-k+1)\n",
    "        #print(r)\n",
    "        motifs.append(stri[r:k+r])\n",
    "    bestMotifs = motifs\n",
    "    \n",
    "    while 1==1:\n",
    "        prof = profile(motifs)\n",
    "        motifs = []\n",
    "        for stri in dna:    \n",
    "            motifs.append(mostProbKmer(stri, k , prof))\n",
    "        \n",
    "        scor = score(motifs)\n",
    "        bestScore = scor\n",
    "        if scor < score(bestMotifs):\n",
    "            bestMotifs = motifs\n",
    "            bestScore = scor\n",
    "        else:\n",
    "            return bestScore, bestMotifs"
   ]
  },
  {
   "cell_type": "code",
   "execution_count": 94,
   "id": "685bde42",
   "metadata": {
    "scrolled": true
   },
   "outputs": [
    {
     "name": "stdout",
     "output_type": "stream",
     "text": [
      "CCATGCTAAGTCCAATCTAGCGGTCTTGAGTACCCGGGAAAAATGACAGTATACTTACTCGGCCCGGAAACGAGAGGGTCAAGCAGTTGTTTGCTGTCAGTTGGGGTTAACAGTCCGCAAGGATCCCAATCCCTTGCGCGCTCTAGAAACGTTCATCGGATATTTCGAGAATACTCTTGATTTCAGGAGCGCCATTTAAGAACC\n"
     ]
    }
   ],
   "source": [
    "file = pd.read_csv(\"dataset_30307_5 (1).txt\", header=None)\n",
    "print(file.iloc[1,0].split()[1])"
   ]
  },
  {
   "cell_type": "code",
   "execution_count": 96,
   "id": "a2b644a9",
   "metadata": {},
   "outputs": [
    {
     "name": "stdout",
     "output_type": "stream",
     "text": [
      "--- Running time: 156.08359217643738 seconds ---\n",
      "TTGATTTCAGGAGCG CCGGAAACGAGAGGG CCGATTAATGGAGGG CCGATTACGCCGGGG GCGATTACGAGAGTA CCGATGGGGAGAGGG CAATTTACGAGAGGG CCACGTACGAGAGGG TGAATTACGAGAGGG TTGATTACGAGAGGC CCGATGGTGAGAGGG CCGATTTAAAGAGGG CCGATTACCTCAGGG CCGGACACGAGAGGG CCGAAGCCGAGAGGG CCGATTACGAGCTTG CCGATTACGATGTGG CCGATTTGAAGAGGG CCGACGCCGAGAGGG CCGATTACGAGACAC\n"
     ]
    }
   ],
   "source": [
    "# RUNNING CELL\n",
    "startt = time.time()\n",
    "motDi = {}\n",
    "for i in range (0,1000):\n",
    "    i+=1\n",
    "    key, value = randomizedMotifSearch(pd.Series(file.iloc[1,0].split()), int(file.iloc[0,0].split()[0]),int(file.iloc[0,0].split()[1]))\n",
    "    motDi[key] = value\n",
    "        \n",
    "for key, val in motDi.items():\n",
    "    if key == min(motDi.keys()):\n",
    "        print(\"--- Running time: %s seconds ---\" % (time.time() - startt))\n",
    "        print(*val)"
   ]
  },
  {
   "cell_type": "markdown",
   "id": "ce735ed3",
   "metadata": {},
   "source": [
    "Implement the random number generator Random(p1, …, pn) so that it uses RandomNumber(X) (for an appropriately chosen integer X) as a subroutine"
   ]
  },
  {
   "cell_type": "code",
   "execution_count": 196,
   "id": "4c43fa51",
   "metadata": {},
   "outputs": [],
   "source": [
    "def randomWeighted(p):\n",
    "    return random.choices([i for i in range(0,len(p))], weights= p, k= 1)[0]"
   ]
  },
  {
   "cell_type": "code",
   "execution_count": 197,
   "id": "d5da0e61",
   "metadata": {},
   "outputs": [
    {
     "data": {
      "text/plain": [
       "4"
      ]
     },
     "execution_count": 197,
     "metadata": {},
     "output_type": "execute_result"
    }
   ],
   "source": [
    "randomWeighted([0.1, 0.2, 0.3, 0.05, 0.1, 0.25])"
   ]
  },
  {
   "cell_type": "markdown",
   "id": "67702696",
   "metadata": {},
   "source": [
    "### Implement GibbsSampler\n",
    "\n",
    "Input: Integers k, t, and N, followed by a space-separated collection of strings Dna.\n",
    "\n",
    "Output: The strings BestMotifs resulting from running GibbsSampler(Dna, k, t, N) with 20 random starts. Remember to use pseudocounts!\n"
   ]
  },
  {
   "cell_type": "code",
   "execution_count": 171,
   "id": "e6bc0277",
   "metadata": {},
   "outputs": [],
   "source": [
    "def kmerProbabilities(text, k, profile):\n",
    "    #process profile into usable format\n",
    "    profDict = {}\n",
    "    profDict['A'] = profile[0]\n",
    "    profDict['C'] = profile[1]\n",
    "    profDict['G'] = profile[2]\n",
    "    profDict['T'] = profile[3]\n",
    "    #print(profDict)\n",
    "    probsDict = {}\n",
    "    \n",
    "    for i in range(0, len(text)-k+1):\n",
    "        pat = text[i:k+i]\n",
    "        prob = 1\n",
    "        for b in range(0, len(pat)): #len(pat)=k\n",
    "            prob*=float(profDict[pat[b]][b])\n",
    "        probsDict[pat] = prob\n",
    "    #print(probsDict)\n",
    "    \n",
    "    return probsDict\n",
    "            "
   ]
  },
  {
   "cell_type": "code",
   "execution_count": 438,
   "id": "b3666278",
   "metadata": {},
   "outputs": [],
   "source": [
    "# without 20 random starts --> preferred (time)\n",
    "def gibbsSampler(dna, k, t, N):\n",
    "    startt = time.time()\n",
    "    motifs = []\n",
    "    for stri in dna:\n",
    "        # random motifs\n",
    "        r = random.randrange(0,len(stri)-k+1)\n",
    "        motifs.append(stri[r:k+r])\n",
    "    #print(motifs)\n",
    "    bestMotifs = motifs\n",
    "    \n",
    "    for n in range (0,N):\n",
    "        i = random.randrange(0,t)\n",
    "        #print(i)\n",
    "        profNotI = profile(motifs[:i]+motifs[i+1:])\n",
    "        #print(profNotI)\n",
    "        probsDict = kmerProbabilities(dna[i], k, profNotI)\n",
    "        #print(probsDict) \n",
    "        probs = list(probsDict.values())\n",
    "        kmers = list(probsDict.keys())\n",
    "        #print(probsDict.values())\n",
    "        randIndex = randomWeighted(probs)\n",
    "        #print(randIndex)\n",
    "    \n",
    "        motifs = motifs[:i]+[kmers[randIndex]]+motifs[i+1:]\n",
    "\n",
    "        bestScore = score(bestMotifs)\n",
    "        currScore = score(motifs)\n",
    "        if currScore<bestScore:\n",
    "            #print(currScore)\n",
    "            bestMotifs= motifs\n",
    "    #print(\"--- Running time: %s seconds ---\" % (time.time() - startt))\n",
    "    #print(*bestMotifs)   \n",
    "    return bestScore, bestMotifs"
   ]
  },
  {
   "cell_type": "code",
   "execution_count": 411,
   "id": "41bfa0b5",
   "metadata": {
    "scrolled": true
   },
   "outputs": [
    {
     "name": "stdout",
     "output_type": "stream",
     "text": [
      "['TCTCGGGG', 'CCAAGGTG', 'TACAGGCG', 'TTCAGGTG', 'TCCACGTG']\n",
      "['TCAGTAAC', 'CAAGGTGC', 'ACAGGCGT', 'TCAGGTGC', 'CCACGTGC']\n",
      "['TCTCGGGG', 'CCAAGGTG', 'TACAGGCG', 'TTCAGGTG', 'TCCACGTG']\n",
      "['TCTCGGGG', 'CCAAGGTG', 'TACAGGCG', 'TTCAGGTG', 'TCCACGTG']\n",
      "['TCTCGGGG', 'CCAAGGTG', 'TACAGGCG', 'TTCAGGTG', 'TCCACGTG']\n",
      "['GGGTGTTC', 'ATGTGTAA', 'AAGTATAC', 'AGGTGCAC', 'ACGTGCAA']\n",
      "['TCTCGGGG', 'CCAAGGTG', 'TACAGGCG', 'TTCAGGTG', 'TCCACGTG']\n",
      "['TCTCGGGG', 'CCAAGGTG', 'TACAGGCG', 'TTCAGGTG', 'TCCACGTG']\n",
      "['TCTCGGGG', 'CCAAGGTG', 'TACAGGCG', 'TTCAGGTG', 'TCCACGTG']\n",
      "['TCTCGGGG', 'CCAAGGTG', 'TACAGGCG', 'TTCAGGTG', 'TCCACGTG']\n"
     ]
    }
   ],
   "source": [
    "for i in range(0,10):\n",
    "    dna = pd.Series([\"CGCCCCTCTCGGGGGTGTTCAGTAACCGGCCA\", \"GGGCGAGGTATGTGTAAGTGCCAAGGTGCCAG\", \"TAGTACCGAGACCGAAAGAAGTATACAGGCGT\", \"TAGATCAAGTTTCAGGTGCACGTCGGTGAACC\", \"AATCCACCAGCTCCACGTGCAATGTTGGCCTA\"])\n",
    "    print(gibbsSampler(dna, 8,5,2000))"
   ]
  },
  {
   "cell_type": "code",
   "execution_count": 431,
   "id": "386d15d4",
   "metadata": {},
   "outputs": [
    {
     "name": "stdout",
     "output_type": "stream",
     "text": [
      "2000\n"
     ]
    }
   ],
   "source": [
    "file = pd.read_csv(\"dataset_30309_11 (2).txt\", header=None)\n",
    "print(file.iloc[0,0].split()[2])"
   ]
  },
  {
   "cell_type": "code",
   "execution_count": 433,
   "id": "3a6ea40d",
   "metadata": {
    "scrolled": true
   },
   "outputs": [
    {
     "name": "stdout",
     "output_type": "stream",
     "text": [
      "TTTGTTGGCTTTCTT TATCCCTGCTTCCTG TATTTTTGCTTCACT TATTACCGCTTCCTG TATTTTGTGTTCCTG TCGGTTTGCTTCCTG TATTTTCCGTTCCTG CGTTTTTGCTTCCTT TATTTTTCGCTCCTG TATTTTTGGGCCCTG TAGGATTGCTTCCTG TATTTGATCTTCCTG TATTTAGTCTTCCTG TATTTTTGCTTATCG TATAGATGCTTCCTG GATTTTTGCTTCCAA TATTTTTGCTAGATG TATTTTTGCGAGCTG TATTAGCGCTTCCTG CCGTTTTGCTTCCTG\n"
     ]
    }
   ],
   "source": [
    "gibbsSampler(pd.Series(file.iloc[1,0].split()),\n",
    "    int(file.iloc[0,0].split()[0]), int(file.iloc[0,0].split()[1]), 10000)"
   ]
  },
  {
   "cell_type": "code",
   "execution_count": 418,
   "id": "4a811e99",
   "metadata": {
    "scrolled": true
   },
   "outputs": [
    {
     "data": {
      "text/plain": [
       "['ACGTCCACCGGCGTC',\n",
       " 'AAGCGCACCGGGGTG',\n",
       " 'ACCCTTACCGGGGTG',\n",
       " 'AAGTTCCTCGGGGTG',\n",
       " 'AAGTTTTATGGGGTG',\n",
       " 'AAGTTTACCGGGTGC',\n",
       " 'AAGTTTCGAGGGGTG',\n",
       " 'CTGTTTACCGGGGTA',\n",
       " 'AAGTTGCTCGGGGTG',\n",
       " 'AAACATACCGGGGTG',\n",
       " 'AAGTTTAGGAGGGTG',\n",
       " 'AAGGAAACCGGGGTG',\n",
       " 'AAGTTTACACAGGTG',\n",
       " 'TAGTTTACCGGGGAT',\n",
       " 'CCTTTTACCGGGGTG',\n",
       " 'AAGTGAGCCGGGGTG',\n",
       " 'AAGTCGTCCGGGGTG',\n",
       " 'AAGTTTACCGGACAG',\n",
       " 'AAGTTTACCAATGTG',\n",
       " 'AAGTTTACCGTCATG']"
      ]
     },
     "execution_count": 418,
     "metadata": {},
     "output_type": "execute_result"
    }
   ],
   "source": [
    "out = gibbsSampler(pd.Series(file.iloc[1,0].split()),\n",
    "    int(file.iloc[0,0].split()[0]), int(file.iloc[0,0].split()[1]), 2000)\n",
    "out"
   ]
  },
  {
   "cell_type": "code",
   "execution_count": 420,
   "id": "371195f1",
   "metadata": {},
   "outputs": [
    {
     "data": {
      "text/plain": [
       "62"
      ]
     },
     "execution_count": 420,
     "metadata": {},
     "output_type": "execute_result"
    }
   ],
   "source": [
    "score(out)"
   ]
  },
  {
   "cell_type": "code",
   "execution_count": 372,
   "id": "dc50ba0b",
   "metadata": {
    "scrolled": true
   },
   "outputs": [
    {
     "data": {
      "text/plain": [
       "['ACGTCCACCGGCGTC',\n",
       " 'AAGCGCACCGGGGTG',\n",
       " 'ACCCTTACCGGGGTG',\n",
       " 'AAGTTCCTCGGGGTG',\n",
       " 'AAGTTTTATGGGGTG',\n",
       " 'AAGTTTACCGGGTGC',\n",
       " 'AAGTTTCGAGGGGTG',\n",
       " 'CTGTTTACCGGGGTA',\n",
       " 'AAGTTGCTCGGGGTG',\n",
       " 'AAACATACCGGGGTG',\n",
       " 'AAGTTTAGGAGGGTG',\n",
       " 'AAGGAAACCGGGGTG',\n",
       " 'AAGTTTACACAGGTG',\n",
       " 'TAGTTTACCGGGGAT',\n",
       " 'CCTTTTACCGGGGTG',\n",
       " 'AAGTGAGCCGGGGTG',\n",
       " 'AAGTCGTCCGGGGTG',\n",
       " 'AAGTTTACCGGACAG',\n",
       " 'AAGTTTACCAATGTG',\n",
       " 'AAGTTTACCGTCATG']"
      ]
     },
     "execution_count": 372,
     "metadata": {},
     "output_type": "execute_result"
    }
   ],
   "source": [
    "theanswer = list(pd.read_csv(\"GibbsSampler/outputs/output_2.txt\", header=None)[0])[0].split()\n",
    "theanswer"
   ]
  },
  {
   "cell_type": "code",
   "execution_count": 373,
   "id": "e22fc975",
   "metadata": {},
   "outputs": [
    {
     "data": {
      "text/plain": [
       "62"
      ]
     },
     "execution_count": 373,
     "metadata": {},
     "output_type": "execute_result"
    }
   ],
   "source": [
    "score(theanswer)"
   ]
  },
  {
   "cell_type": "code",
   "execution_count": 422,
   "id": "96f670b7",
   "metadata": {},
   "outputs": [
    {
     "data": {
      "text/plain": [
       "True"
      ]
     },
     "execution_count": 422,
     "metadata": {},
     "output_type": "execute_result"
    }
   ],
   "source": [
    "out==theanswer"
   ]
  },
  {
   "cell_type": "code",
   "execution_count": 448,
   "id": "e4c28b32",
   "metadata": {},
   "outputs": [],
   "source": [
    "# Implement 20 random starts --> makes it too slow!\n",
    "def gibbsSampler_sRandStrts (dna, k, t, N, s):\n",
    "    startt = time.time()\n",
    "    bestScore = float(inf)\n",
    "    \n",
    "    for i in range(s):\n",
    "        currScore, motifs = gibbsSampler(dna, k, t, N)\n",
    "        if currScore<bestScore:\n",
    "            #print(currScore)\n",
    "            bestScore = currScore\n",
    "            bestMotifs = motifs\n",
    "    \n",
    "    #print(bestScore)\n",
    "    print(*bestMotifs)\n",
    "    print(\"--- Running time: %s seconds ---\" % (time.time() - startt))"
   ]
  },
  {
   "cell_type": "code",
   "execution_count": 447,
   "id": "99d2284f",
   "metadata": {
    "scrolled": true
   },
   "outputs": [
    {
     "name": "stdout",
     "output_type": "stream",
     "text": [
      "13\n",
      "9\n",
      "9\n",
      "TCTCGGGG CCAAGGTG TACAGGCG TTCAGGTG TCCACGTG\n",
      "--- Running time: 28.55189299583435 seconds ---\n"
     ]
    }
   ],
   "source": [
    "gibbsSampler_sRandStrts(dna, 8,5,100,20)"
   ]
  },
  {
   "cell_type": "code",
   "execution_count": 433,
   "id": "6ddb9858",
   "metadata": {
    "scrolled": true
   },
   "outputs": [
    {
     "name": "stdout",
     "output_type": "stream",
     "text": [
      "TTTGTTGGCTTTCTT TATCCCTGCTTCCTG TATTTTTGCTTCACT TATTACCGCTTCCTG TATTTTGTGTTCCTG TCGGTTTGCTTCCTG TATTTTCCGTTCCTG CGTTTTTGCTTCCTT TATTTTTCGCTCCTG TATTTTTGGGCCCTG TAGGATTGCTTCCTG TATTTGATCTTCCTG TATTTAGTCTTCCTG TATTTTTGCTTATCG TATAGATGCTTCCTG GATTTTTGCTTCCAA TATTTTTGCTAGATG TATTTTTGCGAGCTG TATTAGCGCTTCCTG CCGTTTTGCTTCCTG\n"
     ]
    }
   ],
   "source": [
    "gibbsSampler_sRandStrts(pd.Series(file.iloc[1,0].split()),\n",
    "    int(file.iloc[0,0].split()[0]), int(file.iloc[0,0].split()[1]), int(file.iloc[0,0].split()[2]), 20)"
   ]
  },
  {
   "cell_type": "code",
   "execution_count": 449,
   "id": "6281e6f9",
   "metadata": {
    "scrolled": true
   },
   "outputs": [
    {
     "name": "stdout",
     "output_type": "stream",
     "text": [
      "TTTGTTGGCTTTCTT TATCCCTGCTTCCTG TATTTTTGCTTCACT TATTACCGCTTCCTG TATTTTGTGTTCCTG TCGGTTTGCTTCCTG TATTTTCCGTTCCTG CGTTTTTGCTTCCTT TATTTTTCGCTCCTG TATTTTTGGGCCCTG TAGGATTGCTTCCTG TATTTGATCTTCCTG TATTTAGTCTTCCTG TATTTTTGCTTATCG TATAGATGCTTCCTG GATTTTTGCTTCCAA TATTTTTGCTAGATG TATTTTTGCGAGCTG TATTAGCGCTTCCTG CCGTTTTGCTTCCTG\n",
      "--- Running time: 820.8851959705353 seconds ---\n"
     ]
    }
   ],
   "source": [
    "gibbsSampler_sRandStrts(pd.Series(file.iloc[1,0].split()),\n",
    "    int(file.iloc[0,0].split()[0]), int(file.iloc[0,0].split()[1]), int(file.iloc[0,0].split()[2]), 20)"
   ]
  },
  {
   "cell_type": "code",
   "execution_count": null,
   "id": "d4f9960e",
   "metadata": {},
   "outputs": [],
   "source": []
  }
 ],
 "metadata": {
  "kernelspec": {
   "display_name": "Python 3 (ipykernel)",
   "language": "python",
   "name": "python3"
  },
  "language_info": {
   "codemirror_mode": {
    "name": "ipython",
    "version": 3
   },
   "file_extension": ".py",
   "mimetype": "text/x-python",
   "name": "python",
   "nbconvert_exporter": "python",
   "pygments_lexer": "ipython3",
   "version": "3.10.9"
  }
 },
 "nbformat": 4,
 "nbformat_minor": 5
}
