{
 "cells": [
  {
   "cell_type": "markdown",
   "id": "55370ac6",
   "metadata": {},
   "source": [
    "Exercise Break: Give all values of Skewi (GAGCCACCGCGATA) for i ranging from 0 to 14 as a collection of space-separated integers. Use the sample dataset below to help!\n",
    "\n",
    "Sample Input:\n",
    "     CATGGGCATCGGCCATACGCC\n",
    "\n",
    "Sample Output:\n",
    "     0 -1 -1 -1 0 1 2 1 1 1 0 1 2 1 0 0 0 0 -1 0 -1 -2"
   ]
  },
  {
   "cell_type": "code",
   "execution_count": 14,
   "id": "20278b5f",
   "metadata": {},
   "outputs": [],
   "source": [
    "import pandas as pd"
   ]
  },
  {
   "cell_type": "code",
   "execution_count": 13,
   "id": "b9ed8b60",
   "metadata": {},
   "outputs": [],
   "source": [
    "def skews(text):\n",
    "    skew = 0\n",
    "    skewList = []\n",
    "    for i in range(0,len(text)+1):\n",
    "        if i==0:\n",
    "            skewList.append(skew)\n",
    "        else:\n",
    "            if text[i-1]=='G':\n",
    "                skew+=1\n",
    "            elif text[i-1]=='C':\n",
    "                skew-=1\n",
    "            \n",
    "            skewList.append(skew)\n",
    "            \n",
    "    print(*skewList)\n",
    "            "
   ]
  },
  {
   "cell_type": "code",
   "execution_count": 14,
   "id": "ccfe4f21",
   "metadata": {},
   "outputs": [
    {
     "name": "stdout",
     "output_type": "stream",
     "text": [
      "0 -1 -1 -1 0 1 2 1 1 1 0 1 2 1 0 0 0 0 -1 0 -1 -2\n"
     ]
    }
   ],
   "source": [
    "skews(\"CATGGGCATCGGCCATACGCC\")"
   ]
  },
  {
   "cell_type": "code",
   "execution_count": 15,
   "id": "90402d7b",
   "metadata": {},
   "outputs": [
    {
     "name": "stdout",
     "output_type": "stream",
     "text": [
      "0 1 1 2 1 0 0 -1 -2 -1 -2 -1 -1 -1 -1\n"
     ]
    }
   ],
   "source": [
    "skews(\"GAGCCACCGCGATA\")"
   ]
  },
  {
   "cell_type": "markdown",
   "id": "3172d231",
   "metadata": {},
   "source": [
    "### Minimum Skew Problem: \n",
    "Find a position in a genome where the skew diagram attains a minimum.\n",
    "\n",
    "Input: A DNA string Genome.\n",
    "\n",
    "Output: All integer(s) i minimizing Skewi (Genome) among all values of i (from 0 to |Genome|).\n"
   ]
  },
  {
   "cell_type": "code",
   "execution_count": 94,
   "id": "26c7eb7e",
   "metadata": {},
   "outputs": [],
   "source": [
    "def minSkews(text):\n",
    "    skew = 0\n",
    "    skewList = []\n",
    "    skewDF = pd.DataFrame()\n",
    "    for i in range(0,len(text)+1):\n",
    "        if i==0:\n",
    "            skewList.append(skew)\n",
    "        else:\n",
    "            if text[i-1]=='G':\n",
    "                skew+=1\n",
    "            elif text[i-1]=='C':\n",
    "                skew-=1\n",
    "            \n",
    "            skewList.append(skew)\n",
    "    \n",
    "    skewDF['skews'] = skewList\n",
    "    minSkewsDF = skewDF[skewDF['skews']==min(skewList)]\n",
    "    mins = minSkewsDF.reset_index()['index']\n",
    "    print(*mins)\n",
    "            "
   ]
  },
  {
   "cell_type": "code",
   "execution_count": 95,
   "id": "4281208e",
   "metadata": {},
   "outputs": [
    {
     "name": "stdout",
     "output_type": "stream",
     "text": [
      "11 24\n"
     ]
    }
   ],
   "source": [
    "minSkews(\"TAAAGACTGCCGAGAGGCCAACACGAGTGCTAGAACGAGGGGCGTAAACGCGGGTCCGAT\")"
   ]
  },
  {
   "cell_type": "code",
   "execution_count": null,
   "id": "e8bf2d19",
   "metadata": {},
   "outputs": [],
   "source": [
    "file = pd.read_csv(\"dataset_30277_10.txt\", header=None)"
   ]
  },
  {
   "cell_type": "code",
   "execution_count": 99,
   "id": "383b1ddd",
   "metadata": {},
   "outputs": [
    {
     "name": "stdout",
     "output_type": "stream",
     "text": [
      "52667 52668 52669 52670 52808 52809 53152 53153 53154 53155 53177 53178 53179\n"
     ]
    }
   ],
   "source": [
    "minSkews(file.iloc[0,0])"
   ]
  },
  {
   "cell_type": "markdown",
   "id": "61942f56",
   "metadata": {},
   "source": [
    "### Hamming Distance Problem: \n",
    "Compute the Hamming distance between two strings.\n",
    "\n",
    "Input: Two strings of equal length.\n",
    "\n",
    "Output: The Hamming distance between these strings."
   ]
  },
  {
   "cell_type": "code",
   "execution_count": 100,
   "id": "761acd1f",
   "metadata": {},
   "outputs": [],
   "source": [
    "def hamDist(p,q):\n",
    "    dist = 0\n",
    "    for i in range(0,len(p)):\n",
    "        if p[i]!=q[i]:\n",
    "            dist+=1\n",
    "    return dist"
   ]
  },
  {
   "cell_type": "code",
   "execution_count": 105,
   "id": "85c261db",
   "metadata": {
    "scrolled": true
   },
   "outputs": [
    {
     "data": {
      "text/plain": [
       "3"
      ]
     },
     "execution_count": 105,
     "metadata": {},
     "output_type": "execute_result"
    }
   ],
   "source": [
    "hamDist(\"GGGCCGTTGGT\",\"GGACCGTTGAC\")"
   ]
  },
  {
   "cell_type": "code",
   "execution_count": null,
   "id": "e333ee62",
   "metadata": {},
   "outputs": [],
   "source": [
    "file = pd.read_csv(\"dataset_30278_3.txt\", header=None)"
   ]
  },
  {
   "cell_type": "code",
   "execution_count": 107,
   "id": "f985f25f",
   "metadata": {},
   "outputs": [
    {
     "data": {
      "text/plain": [
       "(2, 1)"
      ]
     },
     "execution_count": 107,
     "metadata": {},
     "output_type": "execute_result"
    }
   ],
   "source": [
    "file.shape"
   ]
  },
  {
   "cell_type": "code",
   "execution_count": 109,
   "id": "4bd59f0b",
   "metadata": {
    "scrolled": true
   },
   "outputs": [
    {
     "data": {
      "text/plain": [
       "786"
      ]
     },
     "execution_count": 109,
     "metadata": {},
     "output_type": "execute_result"
    }
   ],
   "source": [
    "hamDist(file.iloc[0,0],file.iloc[1,0])"
   ]
  },
  {
   "cell_type": "markdown",
   "id": "5fbe1bc7",
   "metadata": {},
   "source": [
    "We say that a k-mer Pattern appears as a substring of Text with at most d mismatches if there is some k-mer substring Pattern' of Text having d or fewer mismatches with Pattern, i.e., HammingDistance(Pattern, Pattern') ≤ d. Our observation that a DnaA box may appear with slight variations leads to the following generalization of the Pattern Matching Problem.\n",
    "\n",
    "### Approximate Pattern Matching Problem: \n",
    "Find all approximate occurrences of a pattern in a string.\n",
    "\n",
    "Input: Strings Pattern and Text along with an integer d.\n",
    "\n",
    "Output: All starting positions where Pattern appears as a substring of Text with at most d mismatches.\n"
   ]
  },
  {
   "cell_type": "code",
   "execution_count": 110,
   "id": "0823364d",
   "metadata": {},
   "outputs": [],
   "source": [
    "def approxPatMatch(pat, text, d):\n",
    "    starts = []\n",
    "    for i in range (0, len(text)-len(pat)+1):\n",
    "        dist = hamDist(text[i:len(pat)+i], pat)\n",
    "        if dist<=d:\n",
    "            starts.append(i)            \n",
    "            \n",
    "    print(*starts)"
   ]
  },
  {
   "cell_type": "code",
   "execution_count": 111,
   "id": "030aba18",
   "metadata": {},
   "outputs": [
    {
     "name": "stdout",
     "output_type": "stream",
     "text": [
      "6 7 26 27\n"
     ]
    }
   ],
   "source": [
    "approxPatMatch(\"ATTCTGGA\", \"CGCCCGAATCCAGAACGCATTCCCATATTTCGGGACCACTGGCCTCCACGGTACGGACGTCAATCAAAT\", 3)"
   ]
  },
  {
   "cell_type": "code",
   "execution_count": 115,
   "id": "998ac39d",
   "metadata": {},
   "outputs": [
    {
     "name": "stdout",
     "output_type": "stream",
     "text": [
      "5\n"
     ]
    }
   ],
   "source": [
    "file = pd.read_csv(\"dataset_30278_4.txt\", header=None)\n",
    "print(file.iloc[2,0])"
   ]
  },
  {
   "cell_type": "code",
   "execution_count": null,
   "id": "ece0aa4f",
   "metadata": {
    "scrolled": false
   },
   "outputs": [],
   "source": [
    "approxPatMatch(file.iloc[0,0], file.iloc[1,0], int(file.iloc[2,0]))"
   ]
  },
  {
   "cell_type": "markdown",
   "id": "85591cda",
   "metadata": {},
   "source": [
    "Our goal now is to modify our previous algorithm for the Frequent Words Problem in order to find DnaA boxes by identifying frequent k-mers, possibly with mismatches. Given strings Text and Pattern as well as an integer d, we define Countd(Text, Pattern) as the total number of occurrences of Pattern in Text with at most d mismatches. For example, Count1(AACAAGCTGATAAACATTTAAAGAG, AAAAA) = 4 because AAAAA appears four times in this string with at most one mismatch: AACAA, ATAAA, AAACA, and AAAGA. Note that two of these occurrences overlap.\n",
    "\n",
    "Exercise Break: Compute Count2(AACAAGCTGATAAACATTTAAAGAG, AAAAA)."
   ]
  },
  {
   "cell_type": "code",
   "execution_count": 119,
   "id": "51e2d3e8",
   "metadata": {},
   "outputs": [],
   "source": [
    "def distCount(text, pat, d):\n",
    "    count = 0\n",
    "    for i in range(0, len(text)-len(pat)+1):\n",
    "        dist = hamDist(text[i:len(pat)+i], pat)\n",
    "        if dist<=d:\n",
    "            count+=1\n",
    "\n",
    "    return count"
   ]
  },
  {
   "cell_type": "code",
   "execution_count": 120,
   "id": "8c127fc5",
   "metadata": {},
   "outputs": [
    {
     "data": {
      "text/plain": [
       "4"
      ]
     },
     "execution_count": 120,
     "metadata": {},
     "output_type": "execute_result"
    }
   ],
   "source": [
    "distCount(\"AACAAGCTGATAAACATTTAAAGAG\",\"AAAAA\",1)"
   ]
  },
  {
   "cell_type": "code",
   "execution_count": 121,
   "id": "6c373531",
   "metadata": {},
   "outputs": [
    {
     "data": {
      "text/plain": [
       "11"
      ]
     },
     "execution_count": 121,
     "metadata": {},
     "output_type": "execute_result"
    }
   ],
   "source": [
    "distCount(\"AACAAGCTGATAAACATTTAAAGAG\",\"AAAAA\",2)"
   ]
  },
  {
   "cell_type": "code",
   "execution_count": 122,
   "id": "a120225f",
   "metadata": {},
   "outputs": [
    {
     "data": {
      "text/plain": [
       "4"
      ]
     },
     "execution_count": 122,
     "metadata": {},
     "output_type": "execute_result"
    }
   ],
   "source": [
    "distCount(\"TTTAGAGCCTTCAGAGG\", \"GAGG\", 2)"
   ]
  },
  {
   "cell_type": "code",
   "execution_count": null,
   "id": "ff13827a",
   "metadata": {},
   "outputs": [],
   "source": [
    "file = pd.read_csv(\"dataset_30278_6.txt\", header=None)"
   ]
  },
  {
   "cell_type": "code",
   "execution_count": 130,
   "id": "fd6e0e2f",
   "metadata": {},
   "outputs": [
    {
     "data": {
      "text/plain": [
       "41"
      ]
     },
     "execution_count": 130,
     "metadata": {},
     "output_type": "execute_result"
    }
   ],
   "source": [
    "distCount(file.iloc[1,0],file.iloc[0,0],int(file.iloc[2,0]))"
   ]
  },
  {
   "cell_type": "markdown",
   "id": "c60622ee",
   "metadata": {},
   "source": [
    "### Frequent Words with Mismatches Problem\n",
    "\n",
    "Input: A string Text as well as integers k and d. (You may assume k ≤ 12 and d ≤ 3.)\n",
    "\n",
    "Output: All most frequent k-mers with up to d mismatches in Text."
   ]
  },
  {
   "cell_type": "code",
   "execution_count": 248,
   "id": "cd9e7bd5",
   "metadata": {},
   "outputs": [],
   "source": [
    "def neighPatMatch(pat, text, d):\n",
    "    neighbors = []\n",
    "    for i in range (0, len(text)-len(pat)+1):\n",
    "        dist = hamDist(pat, text[i:len(pat)+i])\n",
    "        if dist<=d:\n",
    "            neighbors.append(text[i:len(pat)+i])            \n",
    "    return neighbors   "
   ]
  },
  {
   "cell_type": "code",
   "execution_count": 238,
   "id": "30923e2f",
   "metadata": {
    "scrolled": true
   },
   "outputs": [
    {
     "data": {
      "text/plain": [
       "['AAA', 'AAG']"
      ]
     },
     "execution_count": 238,
     "metadata": {},
     "output_type": "execute_result"
    }
   ],
   "source": [
    "neighPatMatch(\"AAA\", \"AAAG\", 1)"
   ]
  },
  {
   "cell_type": "code",
   "execution_count": 258,
   "id": "22ca5f1e",
   "metadata": {},
   "outputs": [
    {
     "data": {
      "text/plain": [
       "['AAA', 'AAG', 'TAA', 'AAC']"
      ]
     },
     "execution_count": 258,
     "metadata": {},
     "output_type": "execute_result"
    }
   ],
   "source": [
    "neighPatMatch(\"AAA\", \"AAAGCTAAC\", 1)"
   ]
  },
  {
   "cell_type": "code",
   "execution_count": 257,
   "id": "8130315d",
   "metadata": {},
   "outputs": [
    {
     "data": {
      "text/plain": [
       "['AAA', 'AAG', 'AAC']"
      ]
     },
     "execution_count": 257,
     "metadata": {},
     "output_type": "execute_result"
    }
   ],
   "source": [
    "neighPatMatch(\"AAG\", \"AAAGCTAAC\", 1)"
   ]
  },
  {
   "cell_type": "code",
   "execution_count": 145,
   "id": "f1b887ba",
   "metadata": {},
   "outputs": [
    {
     "data": {
      "text/plain": [
       "['ATTCTGGA', 'AATCCAGA', 'ATCCAGAA', 'ATTTCGGG', 'TTTCGGGA']"
      ]
     },
     "execution_count": 145,
     "metadata": {},
     "output_type": "execute_result"
    }
   ],
   "source": [
    "neighPatMatch(\"ATTCTGGA\", \"CGCCCGAATCCAGAACGCATTCCCATATTTCGGGACCACTGGCCTCCACGGTACGGACGTCAATCAAAT\", 3)"
   ]
  },
  {
   "cell_type": "code",
   "execution_count": 259,
   "id": "5b70c17b",
   "metadata": {},
   "outputs": [],
   "source": [
    "def approxFreqKmers(text, k, d):\n",
    "    kmerdic = {}\n",
    "    freqKs = []\n",
    "    for i in range (0, len(text)-k+1):\n",
    "        #print(i)\n",
    "        pat = text[i:k+i]\n",
    "        neighbors = neighPatMatch(pat, text, d)\n",
    "        #print(neighbors)\n",
    "        for j in range (0, len(neighbors)):\n",
    "            if neighbors[j] in kmerdic.keys():\n",
    "                kmerdic[neighbors[j]]+=1\n",
    "                #print(\"Neighboor #\" + str(j))\n",
    "                #print(neighbors[j] + \"'s count has gone up by 1\")\n",
    "            else:\n",
    "                kmerdic[neighbors[j]]=1\n",
    "            \n",
    "    for key,val in kmerdic.items():\n",
    "        if val==max(kmerdic.values()):\n",
    "            freqKs.append(key)\n",
    "\n",
    "    #print(kmerdic)\n",
    "    print(*freqKs)"
   ]
  },
  {
   "cell_type": "code",
   "execution_count": null,
   "id": "80628685",
   "metadata": {},
   "outputs": [],
   "source": [
    "file = pd.read_csv(\"dataset_30278_9 (2).txt\", header=None)"
   ]
  },
  {
   "cell_type": "code",
   "execution_count": 266,
   "id": "f4c5c05f",
   "metadata": {},
   "outputs": [
    {
     "name": "stdout",
     "output_type": "stream",
     "text": [
      "TTGTTT\n"
     ]
    }
   ],
   "source": [
    "approxFreqKmers(file.iloc[0,0], int(file.iloc[1,0][0]), int(file.iloc[1,0][2]))"
   ]
  },
  {
   "cell_type": "code",
   "execution_count": 260,
   "id": "27d882d7",
   "metadata": {},
   "outputs": [
    {
     "name": "stdout",
     "output_type": "stream",
     "text": [
      "AAA AAC\n"
     ]
    }
   ],
   "source": [
    "approxFreqKmers(\"AAAGCTAAC\",3,1)"
   ]
  },
  {
   "cell_type": "code",
   "execution_count": 255,
   "id": "b812e5a6",
   "metadata": {},
   "outputs": [
    {
     "data": {
      "text/plain": [
       "['AAA', 'AAG', 'TAA', 'AAC']"
      ]
     },
     "execution_count": 255,
     "metadata": {},
     "output_type": "execute_result"
    }
   ],
   "source": [
    "neighPatMatch(\"AAA\", \"AAAGCTAAC\", 1)"
   ]
  },
  {
   "cell_type": "markdown",
   "id": "1d894364",
   "metadata": {},
   "source": [
    "### Implement Neighbors to find the d-neighborhood of a string.\n",
    "\n",
    "Input: A string Pattern and an integer d.\n",
    "\n",
    "Output: The collection of strings Neighbors(Pattern, d). (You may return the strings in any order, but each line should contain only one string.)"
   ]
  },
  {
   "cell_type": "code",
   "execution_count": 378,
   "id": "1ef18713",
   "metadata": {},
   "outputs": [],
   "source": [
    "def immedNeighbors(pat, d):\n",
    "    neighbrs = [pat]\n",
    "    nucs = ['A','T','C','G']\n",
    "    for i in range(0,len(pat)):\n",
    "        nucs.remove(pat[i])\n",
    "        temppat = list(pat)\n",
    "        for n in range(0,3):\n",
    "            temppat[i]=nucs[n]\n",
    "            neigh = ''.join(temppat)\n",
    "            neighbrs.append(neigh)\n",
    "        \n",
    "        nucs = ['A','T','C','G']\n",
    "        \n",
    "    print(*neighbrs)"
   ]
  },
  {
   "cell_type": "code",
   "execution_count": 327,
   "id": "c87fdca9",
   "metadata": {},
   "outputs": [
    {
     "name": "stdout",
     "output_type": "stream",
     "text": [
      "ACG TCG CCG GCG AAG ATG AGG ACA ACT ACC\n"
     ]
    }
   ],
   "source": [
    "immedNeighbors(\"ACG\", 1)"
   ]
  },
  {
   "cell_type": "code",
   "execution_count": 324,
   "id": "4fce3ccc",
   "metadata": {},
   "outputs": [
    {
     "name": "stdout",
     "output_type": "stream",
     "text": [
      "3\n"
     ]
    }
   ],
   "source": [
    "file = pd.read_csv(\"dataset_30282_4.txt\", header=None)\n",
    "print(file.iloc[1,0])"
   ]
  },
  {
   "cell_type": "code",
   "execution_count": 328,
   "id": "0ffc331b",
   "metadata": {
    "scrolled": true
   },
   "outputs": [
    {
     "name": "stdout",
     "output_type": "stream",
     "text": [
      "AACTGCCG TACTGCCG CACTGCCG GACTGCCG ATCTGCCG ACCTGCCG AGCTGCCG AAATGCCG AATTGCCG AAGTGCCG AACAGCCG AACCGCCG AACGGCCG AACTACCG AACTTCCG AACTCCCG AACTGACG AACTGTCG AACTGGCG AACTGCAG AACTGCTG AACTGCGG AACTGCCA AACTGCCT AACTGCCC\n"
     ]
    }
   ],
   "source": [
    "immedNeighbors(file.iloc[0,0],file.iloc[1,0])"
   ]
  },
  {
   "cell_type": "code",
   "execution_count": 393,
   "id": "c1b9a79c",
   "metadata": {},
   "outputs": [
    {
     "name": "stdout",
     "output_type": "stream",
     "text": [
      "CGGCACAC\n"
     ]
    }
   ],
   "source": [
    "file = pd.read_csv(\"dataset_30282_4 (2).txt\", header=None)\n",
    "print(file.iloc[0,0])"
   ]
  },
  {
   "cell_type": "code",
   "execution_count": 562,
   "id": "15f0f449",
   "metadata": {},
   "outputs": [],
   "source": [
    "def immedNeighbors(pat):\n",
    "    neighbrs = [pat]\n",
    "    nucs = ['A','T','C','G']\n",
    "    for i in range(0,len(pat)):\n",
    "        nucs.remove(pat[i])\n",
    "        temppat = list(pat)\n",
    "        for n in range(0,3):\n",
    "            temppat[i]=nucs[n]\n",
    "            neigh = ''.join(temppat)\n",
    "            neighbrs.append(neigh)\n",
    "        \n",
    "        nucs = ['A','T','C','G']\n",
    "        \n",
    "    return neighbrs"
   ]
  },
  {
   "cell_type": "code",
   "execution_count": 394,
   "id": "b06cd696",
   "metadata": {
    "scrolled": false
   },
   "outputs": [
    {
     "name": "stdout",
     "output_type": "stream",
     "text": [
      "CGGCACAC AGGCACAC TGGCACAC GGGCACAC CAGCACAC CTGCACAC CCGCACAC CGACACAC CGTCACAC CGCCACAC CGGAACAC CGGTACAC CGGGACAC CGGCTCAC CGGCCCAC CGGCGCAC CGGCAAAC CGGCATAC CGGCAGAC CGGCACTC CGGCACCC CGGCACGC CGGCACAA CGGCACAT CGGCACAG\n"
     ]
    }
   ],
   "source": [
    "immedNeighbors(file.iloc[0,0],file.iloc[1,0])"
   ]
  },
  {
   "cell_type": "code",
   "execution_count": 355,
   "id": "757c491f",
   "metadata": {},
   "outputs": [
    {
     "data": {
      "text/plain": [
       "['ATG', 'TTG', 'CTG', 'GTG', 'AAG', 'ACG', 'AGG', 'ATA', 'ATT', 'ATC']"
      ]
     },
     "execution_count": 355,
     "metadata": {},
     "output_type": "execute_result"
    }
   ],
   "source": [
    "immedNeighbors(\"ATG\")"
   ]
  },
  {
   "cell_type": "code",
   "execution_count": 334,
   "id": "fa4464b1",
   "metadata": {},
   "outputs": [
    {
     "name": "stdout",
     "output_type": "stream",
     "text": [
      "AACTGCCG TACTGCCG CACTGCCG GACTGCCG ATCTGCCG ACCTGCCG AGCTGCCG AAATGCCG AATTGCCG AAGTGCCG AACAGCCG AACCGCCG AACGGCCG AACTACCG AACTTCCG AACTCCCG AACTGACG AACTGTCG AACTGGCG AACTGCAG AACTGCTG AACTGCGG AACTGCCA AACTGCCT AACTGCCC\n"
     ]
    }
   ],
   "source": [
    "immedNeighbors(\"AACTGCCG\")"
   ]
  },
  {
   "cell_type": "code",
   "execution_count": 563,
   "id": "a21e3c54",
   "metadata": {},
   "outputs": [],
   "source": [
    "def iterNeighbors(pat, d):\n",
    "    neighborhood = [pat]\n",
    "    for j in range(0,d):\n",
    "        for neighbor in neighborhood:\n",
    "            #print(str(j) + \" \" + neighbor)\n",
    "            neighborhood+=immedNeighbors(neighbor)\n",
    "            #remove dups\n",
    "            neighborhood = set(neighborhood)\n",
    "            neighborhood = list(neighborhood)\n",
    "            \n",
    "    return neighborhood  \n",
    "    #print(*neighborhood)"
   ]
  },
  {
   "cell_type": "code",
   "execution_count": 397,
   "id": "18e49046",
   "metadata": {},
   "outputs": [
    {
     "name": "stdout",
     "output_type": "stream",
     "text": [
      "GCCGATTCA\n"
     ]
    }
   ],
   "source": [
    "file = pd.read_csv(\"dataset_30282_4 (3).txt\", header=None)\n",
    "print(file.iloc[0,0])"
   ]
  },
  {
   "cell_type": "code",
   "execution_count": null,
   "id": "2223d718",
   "metadata": {
    "scrolled": false
   },
   "outputs": [],
   "source": [
    "iterNeighbors(file.iloc[0,0], int(file.iloc[1,0]))"
   ]
  },
  {
   "cell_type": "code",
   "execution_count": 564,
   "id": "b67f63a9",
   "metadata": {},
   "outputs": [],
   "source": [
    "def approxFreqKmers(text, k, d):\n",
    "    kmerdic = {}\n",
    "    freqKs = []\n",
    "    for i in range (0, len(text)-k+1):\n",
    "        #print(i)\n",
    "        pat = text[i:k+i]\n",
    "        neighbors = iterNeighbors(pat, d)\n",
    "        #print(neighbors)\n",
    "        for j in range (0, len(neighbors)):\n",
    "            if neighbors[j] in kmerdic.keys():\n",
    "                kmerdic[neighbors[j]]+=1\n",
    "                #print(\"Neighboor #\" + str(j))\n",
    "                #print(neighbors[j] + \"'s count has gone up by 1\")\n",
    "            else:\n",
    "                kmerdic[neighbors[j]]=1\n",
    "            \n",
    "    for key,val in kmerdic.items():\n",
    "        if val==max(kmerdic.values()):\n",
    "            #print(kmerdic.items())\n",
    "            freqKs.append(key)\n",
    "\n",
    "    #print(kmerdic)\n",
    "    print(*freqKs)"
   ]
  },
  {
   "cell_type": "code",
   "execution_count": null,
   "id": "166bfb75",
   "metadata": {
    "scrolled": true
   },
   "outputs": [],
   "source": [
    "file = pd.read_csv(\"dataset_30278_9 (5).txt\", header=None)"
   ]
  },
  {
   "cell_type": "markdown",
   "id": "3589cf9e",
   "metadata": {},
   "source": [
    "### Frequent Words with Mismatches and Reverse Complements Problem: \n",
    "Find the most frequent k-mers (with mismatches and reverse complements) in a string.\n",
    "\n",
    "Input: A DNA string Text as well as integers k and d.\n",
    "\n",
    "Output: All k-mers Pattern maximizing the sum Countd(Text, Pattern)+ Countd(Text, Patternrc) over all possible k-mers."
   ]
  },
  {
   "cell_type": "code",
   "execution_count": 22,
   "id": "a9fd2307",
   "metadata": {},
   "outputs": [],
   "source": [
    "def revCompl(s):\n",
    "    rev = s[::-1]\n",
    "    compGuide = {\"A\":\"T\", \"C\":\"G\", \"T\":\"A\", \"G\":\"C\"}\n",
    "    revC = \"\"\n",
    "    for nt in rev:\n",
    "        revC+=compGuide[nt]\n",
    "        \n",
    "    return revC"
   ]
  },
  {
   "cell_type": "code",
   "execution_count": 442,
   "id": "43025520",
   "metadata": {},
   "outputs": [],
   "source": [
    "def immedwRCNeighbors(pat):\n",
    "    neighbrs = [pat]\n",
    "    patRC = revCompl(pat)\n",
    "    RCneighs = [patRC]\n",
    "    nucs = ['A','T','C','G']\n",
    "    nucsRC = ['A','T','C','G']\n",
    "    for i in range(0,len(pat)):\n",
    "        nucs.remove(pat[i])\n",
    "        nucsRC.remove(patRC[i])\n",
    "\n",
    "        temppat = list(pat)\n",
    "        temppatRC = list(patRC)\n",
    "        for n in range(0,3):\n",
    "            temppat[i]=nucs[n]\n",
    "            temppatRC[i]=nucsRC[n]\n",
    "            neigh = ''.join(temppat)\n",
    "            neighbrs.append(neigh)\n",
    "            neighRC = ''.join(temppatRC)\n",
    "            RCneighs.append(neighRC)\n",
    "        \n",
    "        nucs = ['A','T','C','G']\n",
    "        nucsRC = ['A','T','C','G']\n",
    "\n",
    "    return neighbrs,RCneighs"
   ]
  },
  {
   "cell_type": "code",
   "execution_count": 452,
   "id": "c0f18615",
   "metadata": {
    "scrolled": true
   },
   "outputs": [
    {
     "data": {
      "text/plain": [
       "['ATC', 'TTC', 'CTC', 'GTC', 'AAC', 'ACC', 'AGC', 'ATA', 'ATT', 'ATG']"
      ]
     },
     "execution_count": 452,
     "metadata": {},
     "output_type": "execute_result"
    }
   ],
   "source": [
    "immedNeighbors(\"ATC\")"
   ]
  },
  {
   "cell_type": "code",
   "execution_count": 547,
   "id": "440d031a",
   "metadata": {},
   "outputs": [],
   "source": [
    "def iterwRCNeighbors(pat, d):\n",
    "    neighborhood = [pat]\n",
    "    neighborhoodRC = [revCompl(pat)]\n",
    "\n",
    "    for j in range(0,d):\n",
    "        for neighbor in neighborhood:\n",
    "            #print(str(j) + \" \" + neighbor)\n",
    "            neighb, neighbRC = immedwRCNeighbors(neighbor)\n",
    "            neighborhood+=neighb\n",
    "            neighborhoodRC+=neighbRC\n",
    "            \n",
    "            #remove dups\n",
    "            neighborhood = set(neighborhood)\n",
    "            neighborhood = list(neighborhood)\n",
    "            neighborhoodRC = set(neighborhoodRC)\n",
    "            neighborhoodRC = list(neighborhoodRC)\n",
    "            \n",
    "    return neighborhood, neighborhoodRC  \n",
    "    #print(*neighborhood)"
   ]
  },
  {
   "cell_type": "code",
   "execution_count": 453,
   "id": "ca597ba1",
   "metadata": {},
   "outputs": [
    {
     "data": {
      "text/plain": [
       "['ATC']"
      ]
     },
     "execution_count": 453,
     "metadata": {},
     "output_type": "execute_result"
    }
   ],
   "source": [
    "iterNeighbors(\"ATC\",1)"
   ]
  },
  {
   "cell_type": "code",
   "execution_count": null,
   "id": "6d25f45a",
   "metadata": {
    "scrolled": true
   },
   "outputs": [],
   "source": [
    "iterNeighbors(\"ATC\",2)"
   ]
  },
  {
   "cell_type": "code",
   "execution_count": 513,
   "id": "dda13744",
   "metadata": {
    "scrolled": true
   },
   "outputs": [
    {
     "name": "stdout",
     "output_type": "stream",
     "text": [
      "GCAT CATG\n"
     ]
    }
   ],
   "source": [
    "approxFreqKmers(\"ACGTTGCATGTCGCATGATGCATGAGAGCT\",4,1)"
   ]
  },
  {
   "cell_type": "code",
   "execution_count": null,
   "id": "fc10cf39",
   "metadata": {},
   "outputs": [],
   "source": [
    "file = pd.read_csv(\"dataset_30278_9 (4).txt\", header=None)"
   ]
  },
  {
   "cell_type": "code",
   "execution_count": 524,
   "id": "5b3c1877",
   "metadata": {
    "scrolled": false
   },
   "outputs": [
    {
     "name": "stdout",
     "output_type": "stream",
     "text": [
      "AGGGGG\n"
     ]
    }
   ],
   "source": [
    "approxFreqKmers(file.iloc[0,0], int(file.iloc[1,0][0]), int(file.iloc[1,0][2]))"
   ]
  },
  {
   "cell_type": "code",
   "execution_count": 566,
   "id": "576f1461",
   "metadata": {
    "scrolled": true
   },
   "outputs": [
    {
     "name": "stdout",
     "output_type": "stream",
     "text": [
      "GTGT GAAG\n"
     ]
    }
   ],
   "source": [
    "approxFreqKmers(\"ACGTTGCATGTCGCATGATGCATGAGAGCT\",4,1)"
   ]
  },
  {
   "cell_type": "code",
   "execution_count": 565,
   "id": "47712707",
   "metadata": {
    "scrolled": true
   },
   "outputs": [
    {
     "name": "stdout",
     "output_type": "stream",
     "text": [
      "AAAAA AAAAT\n"
     ]
    }
   ],
   "source": [
    "approxFreqKmers(\"AACAAGCTGATAAACATTTAAAGAG\",5,1)"
   ]
  },
  {
   "cell_type": "code",
   "execution_count": 3,
   "id": "ed2b1248",
   "metadata": {},
   "outputs": [],
   "source": [
    "def immedNeighbors(pat):\n",
    "    neighbrs = [pat]\n",
    "    nucs = ['A','T','C','G']\n",
    "    for i in range(0,len(pat)):\n",
    "        nucs.remove(pat[i])\n",
    "        temppat = list(pat)\n",
    "        for n in range(0,3):\n",
    "            temppat[i]=nucs[n]\n",
    "            neigh = ''.join(temppat)\n",
    "            neighbrs.append(neigh)\n",
    "        \n",
    "        nucs = ['A','T','C','G']\n",
    "        \n",
    "    return neighbrs"
   ]
  },
  {
   "cell_type": "code",
   "execution_count": 4,
   "id": "fddf043c",
   "metadata": {},
   "outputs": [
    {
     "data": {
      "text/plain": [
       "['ACG', 'TCG', 'CCG', 'GCG', 'AAG', 'ATG', 'AGG', 'ACA', 'ACT', 'ACC']"
      ]
     },
     "execution_count": 4,
     "metadata": {},
     "output_type": "execute_result"
    }
   ],
   "source": [
    "immedNeighbors(\"ACG\")"
   ]
  },
  {
   "cell_type": "code",
   "execution_count": 587,
   "id": "1dab186e",
   "metadata": {},
   "outputs": [
    {
     "data": {
      "text/plain": [
       "['AAA', 'TAA', 'CAA', 'GAA', 'ATA', 'ACA', 'AGA', 'AAT', 'AAC', 'AAG']"
      ]
     },
     "execution_count": 587,
     "metadata": {},
     "output_type": "execute_result"
    }
   ],
   "source": [
    "immedNeighbors(\"AAA\")"
   ]
  },
  {
   "cell_type": "code",
   "execution_count": 9,
   "id": "678e7716",
   "metadata": {},
   "outputs": [],
   "source": [
    "def iterNeighbors(pat, d):\n",
    "    neighborhood = [pat]\n",
    "    for j in range(0,d):\n",
    "        oldNeighood = neighborhood[:]\n",
    "        #print(\"oldn is \" + str(oldNeighood))\n",
    "        for nei in oldNeighood:\n",
    "            #print(neighbor)\n",
    "            #print(str(j) + \" \" + neighbor)\n",
    "            neighborhood+=immedNeighbors(nei)\n",
    "            #(\"oldn is \" + str(oldNeighood))\n",
    "            #remove dups\n",
    "            neighborhood = set(neighborhood)\n",
    "            neighborhood = list(neighborhood)\n",
    "            #print(\"oldn is \" + str(oldNeighood))\n",
    "        #print(j)\n",
    "\n",
    "    return neighborhood  \n",
    "    #print(*neighborhood)\n",
    "    print(\"done\")"
   ]
  },
  {
   "cell_type": "code",
   "execution_count": 10,
   "id": "f88ea5e4",
   "metadata": {},
   "outputs": [
    {
     "data": {
      "text/plain": [
       "['ATA', 'ACA', 'AAA', 'AAG', 'AAT', 'AAC', 'AGA', 'GAA', 'CAA', 'TAA']"
      ]
     },
     "execution_count": 10,
     "metadata": {},
     "output_type": "execute_result"
    }
   ],
   "source": [
    "iterNeighbors(\"AAA\",1)"
   ]
  },
  {
   "cell_type": "code",
   "execution_count": 580,
   "id": "4646e751",
   "metadata": {
    "scrolled": false
   },
   "outputs": [
    {
     "name": "stdout",
     "output_type": "stream",
     "text": [
      "AAA AGT CCA CTG ATT ATG TCA CCT GCC AGG AAG ATC GAG GCA AAT CCC CCG AGA TCC ACT ACC GCG ATA TCT TGG GCT ACA CAG GTG GGG TTG AGC TCG TAG ACG AAC CGG\n"
     ]
    }
   ],
   "source": [
    "iterNeighbors(\"ACG\",1)"
   ]
  },
  {
   "cell_type": "code",
   "execution_count": 11,
   "id": "c1bf6721",
   "metadata": {},
   "outputs": [],
   "source": [
    "def approxFreqKmers(text, k, d):\n",
    "    kmerdic = {}\n",
    "    freqKs = []\n",
    "    for i in range (0, len(text)-k+1):\n",
    "        #print(i)\n",
    "        pat = text[i:k+i]\n",
    "        neighbors = iterNeighbors(pat, d)\n",
    "        #print(neighbors)\n",
    "        for j in range (0, len(neighbors)):\n",
    "            if neighbors[j] in kmerdic.keys():\n",
    "                kmerdic[neighbors[j]]+=1\n",
    "                #print(\"Neighboor #\" + str(j))\n",
    "                #print(neighbors[j] + \"'s count has gone up by 1\")\n",
    "            else:\n",
    "                kmerdic[neighbors[j]]=1\n",
    "            \n",
    "    for key,val in kmerdic.items():\n",
    "        if val==max(kmerdic.values()):\n",
    "            #print(kmerdic.items())\n",
    "            freqKs.append(key)\n",
    "\n",
    "    #print(kmerdic)\n",
    "    print(*freqKs)"
   ]
  },
  {
   "cell_type": "code",
   "execution_count": 12,
   "id": "88efaa07",
   "metadata": {
    "scrolled": false
   },
   "outputs": [
    {
     "name": "stdout",
     "output_type": "stream",
     "text": [
      "ATGT GATG ATGC\n"
     ]
    }
   ],
   "source": [
    "approxFreqKmers(\"ACGTTGCATGTCGCATGATGCATGAGAGCT\",4,1)"
   ]
  },
  {
   "cell_type": "code",
   "execution_count": null,
   "id": "56a6de8c",
   "metadata": {
    "scrolled": true
   },
   "outputs": [],
   "source": [
    "file = pd.read_csv(\"dataset_30278_9 (7).txt\", header=None)"
   ]
  },
  {
   "cell_type": "code",
   "execution_count": 16,
   "id": "0973a914",
   "metadata": {
    "scrolled": true
   },
   "outputs": [
    {
     "name": "stdout",
     "output_type": "stream",
     "text": [
      "TTTTT\n"
     ]
    }
   ],
   "source": [
    "approxFreqKmers(file.iloc[0,0], int(file.iloc[1,0][0]), int(file.iloc[1,0][2]))"
   ]
  },
  {
   "cell_type": "code",
   "execution_count": 19,
   "id": "3488ccd7",
   "metadata": {
    "scrolled": true
   },
   "outputs": [
    {
     "name": "stdout",
     "output_type": "stream",
     "text": [
      "ATTATTA\n"
     ]
    }
   ],
   "source": [
    "approxFreqKmers(file.iloc[0,0], int(file.iloc[1,0][0]), int(file.iloc[1,0][2]))"
   ]
  },
  {
   "cell_type": "code",
   "execution_count": 58,
   "id": "12d24347",
   "metadata": {},
   "outputs": [],
   "source": [
    "def immedwRCNeighbors(pat):\n",
    "    neighbrs = [pat]\n",
    "    patRC = revCompl(pat)\n",
    "    RCneighs = [patRC]\n",
    "    nucs = ['A','T','C','G']\n",
    "    nucsRC = ['A','T','C','G']\n",
    "    for i in range(0,len(pat)):\n",
    "        nucs.remove(pat[i])\n",
    "        nucsRC.remove(patRC[i])\n",
    "\n",
    "        temppat = list(pat)\n",
    "        temppatRC = list(patRC)\n",
    "        for n in range(0,3):\n",
    "            temppat[i]=nucs[n]\n",
    "            temppatRC[i]=nucsRC[n]\n",
    "            neigh = ''.join(temppat)\n",
    "            neighbrs.append(neigh)\n",
    "            neighRC = ''.join(temppatRC)\n",
    "            RCneighs.append(neighRC)\n",
    "        \n",
    "        nucs = ['A','T','C','G']\n",
    "        nucsRC = ['A','T','C','G']\n",
    "\n",
    "    return neighbrs,RCneighs"
   ]
  },
  {
   "cell_type": "code",
   "execution_count": 9,
   "id": "3df26257",
   "metadata": {},
   "outputs": [],
   "source": [
    "def iterNeighbors(pat, d):\n",
    "    neighborhood = [pat]\n",
    "    for j in range(0,d):\n",
    "        oldNeighood = neighborhood[:]\n",
    "        #print(\"oldn is \" + str(oldNeighood))\n",
    "        for nei in oldNeighood:\n",
    "            #print(neighbor)\n",
    "            #print(str(j) + \" \" + neighbor)\n",
    "            neighborhood+=immedNeighbors(nei)\n",
    "            #(\"oldn is \" + str(oldNeighood))\n",
    "            #remove dups\n",
    "            neighborhood = set(neighborhood)\n",
    "            neighborhood = list(neighborhood)\n",
    "            #print(\"oldn is \" + str(oldNeighood))\n",
    "        #print(j)\n",
    "\n",
    "    return neighborhood  \n",
    "    #print(*neighborhood)\n",
    "    print(\"done\")"
   ]
  },
  {
   "cell_type": "code",
   "execution_count": 59,
   "id": "9381cc92",
   "metadata": {},
   "outputs": [],
   "source": [
    "def iterwRCNeighbors(pat, d):\n",
    "    neighborhood = [pat]\n",
    "    neighborhoodRC = [revCompl(pat)]\n",
    "\n",
    "    for j in range(0,d):\n",
    "        oldNeighood = neighborhood[:]\n",
    "        for neighbor in oldNeighood:\n",
    "            #print(str(j) + \" \" + neighbor)\n",
    "            neighb, neighbRC = immedwRCNeighbors(neighbor)\n",
    "            neighborhood+=neighb\n",
    "            neighborhoodRC+=neighbRC\n",
    "            \n",
    "            #remove dups\n",
    "            neighborhood = set(neighborhood)\n",
    "            neighborhood = list(neighborhood)\n",
    "            neighborhoodRC = set(neighborhoodRC)\n",
    "            neighborhoodRC = list(neighborhoodRC)\n",
    "            \n",
    "    return neighborhood, neighborhoodRC  \n",
    "    #print(*neighborhood)"
   ]
  },
  {
   "cell_type": "code",
   "execution_count": 66,
   "id": "3c37561a",
   "metadata": {},
   "outputs": [
    {
     "data": {
      "text/plain": [
       "['ATA', 'ACA', 'AAA', 'AAG', 'AAT', 'AAC', 'AGA', 'GAA', 'CAA', 'TAA']"
      ]
     },
     "execution_count": 66,
     "metadata": {},
     "output_type": "execute_result"
    }
   ],
   "source": [
    "iterNeighbors(\"AAA\",1)"
   ]
  },
  {
   "cell_type": "code",
   "execution_count": 67,
   "id": "bb038191",
   "metadata": {},
   "outputs": [
    {
     "data": {
      "text/plain": [
       "(['ATA', 'ACA', 'AAA', 'AAG', 'AAT', 'AAC', 'AGA', 'GAA', 'CAA', 'TAA'],\n",
       " ['TTT', 'TCT', 'TTA', 'GTT', 'CTT', 'ATT', 'TTG', 'TTC', 'TAT', 'TGT'])"
      ]
     },
     "execution_count": 67,
     "metadata": {},
     "output_type": "execute_result"
    }
   ],
   "source": [
    "iterwRCNeighbors(\"AAA\",1)"
   ]
  },
  {
   "cell_type": "code",
   "execution_count": 11,
   "id": "42f6280e",
   "metadata": {},
   "outputs": [],
   "source": [
    "def approxFreqKmers(text, k, d):\n",
    "    kmerdic = {}\n",
    "    freqKs = []\n",
    "    for i in range (0, len(text)-k+1):\n",
    "        #print(i)\n",
    "        pat = text[i:k+i]\n",
    "        neighbors = iterNeighbors(pat, d)\n",
    "        #print(neighbors)\n",
    "        for j in range (0, len(neighbors)):\n",
    "            if neighbors[j] in kmerdic.keys():\n",
    "                kmerdic[neighbors[j]]+=1\n",
    "                #print(\"Neighboor #\" + str(j))\n",
    "                #print(neighbors[j] + \"'s count has gone up by 1\")\n",
    "            else:\n",
    "                kmerdic[neighbors[j]]=1\n",
    "            \n",
    "    for key,val in kmerdic.items():\n",
    "        if val==max(kmerdic.values()):\n",
    "            #print(kmerdic.items())\n",
    "            freqKs.append(key)\n",
    "\n",
    "    #print(kmerdic)\n",
    "    print(*freqKs)"
   ]
  },
  {
   "cell_type": "code",
   "execution_count": 42,
   "id": "0784ba2e",
   "metadata": {},
   "outputs": [
    {
     "name": "stdout",
     "output_type": "stream",
     "text": [
      "ATGT GATG ATGC\n"
     ]
    }
   ],
   "source": [
    "approxFreqKmers(\"ACGTTGCATGTCGCATGATGCATGAGAGCT\",4,1)"
   ]
  },
  {
   "cell_type": "code",
   "execution_count": 94,
   "id": "598d866c",
   "metadata": {},
   "outputs": [],
   "source": [
    "def approxFreqKmersRCf(text, k, d):\n",
    "    kmerdic = {}\n",
    "    kmerRCdic = {}\n",
    "    freqKs = []\n",
    "    for i in range (0, len(text)-k+1):\n",
    "        #print(i)\n",
    "        pat = text[i:k+i]\n",
    "        neighbors = iterNeighbors(pat, d)\n",
    "        #print(neighbors)\n",
    "        for j in range (0, len(neighbors)):\n",
    "            if neighbors[j] in kmerdic.keys():\n",
    "                kmerdic[neighbors[j]]+=1\n",
    "                #print(\"Neighboor #\" + str(j))\n",
    "                #print(neighbors[j] + \"'s count has gone up by 1\")\n",
    "            else:\n",
    "                kmerdic[neighbors[j]]=1\n",
    "            \n",
    "            neighRC = revCompl(neighbors[j])\n",
    "            if neighRC in kmerRCdic.keys():\n",
    "                kmerRCdic[neighRC]+=1\n",
    "            else: \n",
    "                kmerRCdic[neighRC]=1\n",
    "            \n",
    "    #get the sum of both neighborhoods\n",
    "    lstkmer = list(kmerdic.items())\n",
    "    lstkmerRC = list(kmerRCdic.items())\n",
    "    sumdic = {}\n",
    "    \n",
    "    #print(len(lstkmer))\n",
    "    for i in range(0, len(lstkmer)):\n",
    "        #print(str(i) + \"  \" + str(listdic[i]))\n",
    "        #check for existence of pattern in the RC dic and rev pattern in the original dic\n",
    "        kmerinRC = 0\n",
    "        kmerRCinori = 0\n",
    "        if lstkmer[i][0] in kmerRCdic.keys():\n",
    "            kmerinRC = kmerRCdic[lstkmer[i][0]]\n",
    "            \n",
    "        if lstkmerRC[i][0] in kmerdic.keys():\n",
    "            kmerRCinori = kmerdic[lstkmerRC[i][0]]\n",
    "        sumdic[lstkmer[i][0]]= lstkmer[i][1] + lstkmerRC[i][1] + kmerinRC + kmerRCinori\n",
    " \n",
    "    for key,val in sumdic.items():\n",
    "        if val==max(sumdic.values()):\n",
    "            freqKs.append(key)\n",
    "    #print(max(sumdic.values()))\n",
    "\n",
    "    #print(kmerdic)\n",
    "    #print(\"\\n\\n\")\n",
    "    #print(kmerRCdic)\n",
    "    print(*freqKs)"
   ]
  },
  {
   "cell_type": "code",
   "execution_count": 74,
   "id": "2b1c98cf",
   "metadata": {},
   "outputs": [
    {
     "data": {
      "text/plain": [
       "['ATA', 'ACA', 'AAA', 'AAG', 'AAT', 'AAC', 'AGA', 'GAA', 'CAA', 'TAA']"
      ]
     },
     "execution_count": 74,
     "metadata": {},
     "output_type": "execute_result"
    }
   ],
   "source": [
    "iterNeighbors(\"AAA\",1)"
   ]
  },
  {
   "cell_type": "code",
   "execution_count": 81,
   "id": "75040a09",
   "metadata": {},
   "outputs": [
    {
     "name": "stdout",
     "output_type": "stream",
     "text": [
      "ATGT GATG ATGC\n"
     ]
    }
   ],
   "source": [
    "approxFreqKmers(\"ACGTTGCATGTCGCATGATGCATGAGAGCT\",4,1)"
   ]
  },
  {
   "cell_type": "code",
   "execution_count": 82,
   "id": "238a0ad1",
   "metadata": {
    "scrolled": false
   },
   "outputs": [
    {
     "name": "stdout",
     "output_type": "stream",
     "text": [
      "{'TCGT': 2, 'ACGT': 2, 'ACCT': 2, 'ACGA': 3, 'ATGT': 5, 'ACTT': 1, 'AGGT': 3, 'AAGT': 2, 'GCGT': 4, 'CCGT': 1, 'ACGG': 1, 'ACGC': 3, 'ACAT': 4, 'CGGT': 1, 'TGTT': 3, 'CGTA': 2, 'CATT': 4, 'AGTT': 2, 'CGTT': 1, 'GGTT': 1, 'CGAT': 2, 'CGTC': 2, 'CTTT': 1, 'CCTT': 1, 'CGCT': 3, 'CGTG': 4, 'CTTG': 4, 'GATG': 5, 'GTTT': 1, 'GTTA': 1, 'GTTG': 3, 'ATTG': 1, 'GGTG': 2, 'GTAG': 2, 'TTTG': 1, 'GCTG': 2, 'GTCG': 2, 'GTTC': 1, 'GTGG': 2, 'TCGC': 2, 'ATGC': 5, 'TGGC': 3, 'GTGC': 3, 'TTGC': 3, 'TAGC': 3, 'TTAC': 1, 'TTTC': 2, 'CTGC': 2, 'TTGG': 1, 'TTGT': 2, 'TTGA': 3, 'TTCC': 1, 'TGCT': 4, 'TTCA': 2, 'TACA': 2, 'TGCG': 3, 'GGCA': 3, 'TCCA': 2, 'TGCA': 3, 'CGCA': 3, 'TGCC': 3, 'TGTA': 3, 'TGGA': 2, 'AGCA': 4, 'TGAA': 4, 'TCAT': 4, 'GCAT': 3, 'GCCT': 3, 'GGAT': 4, 'GCTT': 3, 'CCAT': 3, 'GAAT': 3, 'GTAT': 3, 'GCAC': 3, 'GCAA': 3, 'GCAG': 3, 'AATG': 4, 'CAAG': 3, 'CACG': 3, 'CCTG': 3, 'CATC': 3, 'CAGG': 3, 'TATG': 4, 'CATG': 4, 'CATA': 3, 'ATCT': 2, 'GTGT': 1, 'ATAT': 1, 'ATGG': 4, 'ATTT': 1, 'CTGT': 1, 'ATGA': 4, 'TCTC': 2, 'GGTC': 1, 'TGAC': 3, 'TGTC': 1, 'TGTG': 2, 'TATC': 1, 'AGTC': 1, 'ATCG': 1, 'TTCG': 1, 'GTCT': 1, 'GTCA': 1, 'GCCG': 1, 'CTCG': 1, 'GACG': 2, 'GGCG': 1, 'GTCC': 1, 'TCCC': 1, 'TCAC': 1, 'CCGC': 1, 'TCGG': 1, 'TCGA': 1, 'GCGC': 2, 'CACA': 1, 'CGCG': 1, 'CGAA': 1, 'CGGA': 1, 'CGCC': 1, 'CTCA': 1, 'CCCA': 1, 'AGGA': 2, 'ATAA': 2, 'ATCA': 2, 'GTGA': 3, 'ATTA': 2, 'CTGA': 2, 'AAGA': 3, 'TAAT': 1, 'TGGT': 1, 'TGAT': 2, 'AGAT': 3, 'TTAT': 1, 'TGAG': 3, 'GATA': 2, 'GAGG': 3, 'GAAG': 1, 'GATT': 1, 'GATC': 2, 'ATTC': 1, 'AGGC': 1, 'ATCC': 1, 'ATAC': 1, 'AAGC': 2, 'TAAG': 1, 'CGAG': 2, 'GGAG': 2, 'TCAG': 1, 'TTAG': 1, 'AGAG': 2, 'TGGG': 1, 'GAGT': 2, 'GAAA': 1, 'TAGA': 1, 'CAGA': 1, 'GAGC': 2, 'GACA': 1, 'GCGA': 1, 'GGGA': 1, 'GAGA': 2, 'AGAA': 1, 'AGAC': 1, 'AGGG': 1, 'ATAG': 1, 'AAAG': 1, 'AGCG': 2, 'AGTG': 1, 'ACAG': 1, 'CAGC': 1, 'GAAC': 1, 'GACC': 1, 'GGGC': 1, 'AACT': 1, 'AGCC': 1, 'GGCT': 1, 'AGCT': 1}\n",
      "\n",
      "\n",
      "\n",
      "{'ACGA': 2, 'ACGT': 2, 'AGGT': 2, 'TCGT': 3, 'ACAT': 5, 'AAGT': 1, 'ACCT': 3, 'ACTT': 2, 'ACGC': 4, 'ACGG': 1, 'CCGT': 1, 'GCGT': 3, 'ATGT': 4, 'ACCG': 1, 'AACA': 3, 'TACG': 2, 'AATG': 4, 'AACT': 2, 'AACG': 1, 'AACC': 1, 'ATCG': 2, 'GACG': 2, 'AAAG': 1, 'AAGG': 1, 'AGCG': 3, 'CACG': 4, 'CAAG': 4, 'CATC': 5, 'AAAC': 1, 'TAAC': 1, 'CAAC': 3, 'CAAT': 1, 'CACC': 2, 'CTAC': 2, 'CAAA': 1, 'CAGC': 2, 'CGAC': 2, 'GAAC': 1, 'CCAC': 2, 'GCGA': 2, 'GCAT': 5, 'GCCA': 3, 'GCAC': 3, 'GCAA': 3, 'GCTA': 3, 'GTAA': 1, 'GAAA': 2, 'GCAG': 2, 'CCAA': 1, 'ACAA': 2, 'TCAA': 3, 'GGAA': 1, 'AGCA': 4, 'TGAA': 2, 'TGTA': 2, 'CGCA': 3, 'TGCC': 3, 'TGGA': 2, 'TGCA': 3, 'TGCG': 3, 'GGCA': 3, 'TACA': 3, 'TCCA': 2, 'TGCT': 4, 'TTCA': 4, 'ATGA': 4, 'ATGC': 3, 'AGGC': 3, 'ATCC': 4, 'AAGC': 3, 'ATGG': 3, 'ATTC': 3, 'ATAC': 3, 'GTGC': 3, 'TTGC': 3, 'CTGC': 3, 'CATT': 4, 'CTTG': 3, 'CGTG': 3, 'CAGG': 3, 'GATG': 3, 'CCTG': 3, 'CATA': 4, 'CATG': 4, 'TATG': 3, 'AGAT': 2, 'ACAC': 1, 'ATAT': 1, 'CCAT': 4, 'AAAT': 1, 'ACAG': 1, 'TCAT': 4, 'GAGA': 2, 'GACC': 1, 'GTCA': 3, 'GACA': 1, 'CACA': 2, 'GATA': 1, 'GACT': 1, 'CGAT': 1, 'CGAA': 1, 'AGAC': 1, 'TGAC': 1, 'CGGC': 1, 'CGAG': 1, 'CGTC': 2, 'CGCC': 1, 'GGAC': 1, 'GGGA': 1, 'GTGA': 1, 'GCGG': 1, 'CCGA': 1, 'TCGA': 1, 'GCGC': 2, 'TGTG': 1, 'CGCG': 1, 'TTCG': 1, 'TCCG': 1, 'GGCG': 1, 'TGAG': 1, 'TGGG': 1, 'TCCT': 2, 'TTAT': 2, 'TGAT': 2, 'TCAC': 3, 'TAAT': 2, 'TCAG': 2, 'TCTT': 3, 'ATTA': 1, 'ACCA': 1, 'ATCA': 2, 'ATCT': 3, 'ATAA': 1, 'CTCA': 3, 'TATC': 2, 'CCTC': 3, 'CTTC': 1, 'AATC': 1, 'GATC': 2, 'GAAT': 1, 'GCCT': 1, 'GGAT': 1, 'GTAT': 1, 'GCTT': 2, 'CTTA': 1, 'CTCG': 2, 'CTCC': 2, 'CTGA': 1, 'CTAA': 1, 'CTCT': 2, 'CCCA': 1, 'ACTC': 2, 'TTTC': 1, 'TCTA': 1, 'TCTG': 1, 'GCTC': 2, 'TGTC': 1, 'TCGC': 1, 'TCCC': 1, 'TCTC': 2, 'TTCT': 1, 'GTCT': 1, 'CCCT': 1, 'CTAT': 1, 'CTTT': 1, 'CGCT': 2, 'CACT': 1, 'CTGT': 1, 'GCTG': 1, 'GTTC': 1, 'GGTC': 1, 'GCCC': 1, 'AGTT': 1, 'GGCT': 1, 'AGCC': 1, 'AGCT': 1}\n"
     ]
    }
   ],
   "source": [
    "approxFreqKmersRCf(\"ACGTTGCATGTCGCATGATGCATGAGAGCT\",4,1)"
   ]
  },
  {
   "cell_type": "code",
   "execution_count": 95,
   "id": "9e704c35",
   "metadata": {
    "scrolled": true
   },
   "outputs": [
    {
     "name": "stdout",
     "output_type": "stream",
     "text": [
      "ATGT ACAT\n"
     ]
    }
   ],
   "source": [
    "approxFreqKmersRCf(\"ACGTTGCATGTCGCATGATGCATGAGAGCT\",4,1)"
   ]
  },
  {
   "cell_type": "code",
   "execution_count": 98,
   "id": "126f9d40",
   "metadata": {
    "scrolled": true
   },
   "outputs": [
    {
     "name": "stdout",
     "output_type": "stream",
     "text": [
      "7 3\n"
     ]
    }
   ],
   "source": [
    "file = pd.read_csv(\"dataset_30278_10 (2).txt\", header=None)\n",
    "print(file.iloc[1,0])"
   ]
  },
  {
   "cell_type": "code",
   "execution_count": 99,
   "id": "ed9be17f",
   "metadata": {
    "scrolled": true
   },
   "outputs": [
    {
     "name": "stdout",
     "output_type": "stream",
     "text": [
      "GTCGCCG CGGCGAC\n"
     ]
    }
   ],
   "source": [
    "approxFreqKmersRCf(file.iloc[0,0], int(file.iloc[1,0][0]), int(file.iloc[1,0][2]))"
   ]
  },
  {
   "cell_type": "code",
   "execution_count": null,
   "id": "fe84d216",
   "metadata": {},
   "outputs": [],
   "source": []
  }
 ],
 "metadata": {
  "kernelspec": {
   "display_name": "Python 3 (ipykernel)",
   "language": "python",
   "name": "python3"
  },
  "language_info": {
   "codemirror_mode": {
    "name": "ipython",
    "version": 3
   },
   "file_extension": ".py",
   "mimetype": "text/x-python",
   "name": "python",
   "nbconvert_exporter": "python",
   "pygments_lexer": "ipython3",
   "version": "3.10.9"
  }
 },
 "nbformat": 4,
 "nbformat_minor": 5
}
